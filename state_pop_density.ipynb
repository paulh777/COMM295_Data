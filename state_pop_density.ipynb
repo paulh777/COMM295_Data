{
 "cells": [
  {
   "cell_type": "code",
   "execution_count": 1,
   "id": "b2eed7ae-6268-4d6d-9e09-0c309b027826",
   "metadata": {},
   "outputs": [
    {
     "name": "stderr",
     "output_type": "stream",
     "text": [
      "Warning message in system(\"timedatectl\", intern = TRUE):\n",
      "“running command 'timedatectl' had status 1”\n",
      "── \u001b[1mAttaching packages\u001b[22m ─────────────────────────────────────── tidyverse 1.3.1 ──\n",
      "\n",
      "\u001b[32m✔\u001b[39m \u001b[34mggplot2\u001b[39m 3.3.5     \u001b[32m✔\u001b[39m \u001b[34mpurrr  \u001b[39m 0.3.4\n",
      "\u001b[32m✔\u001b[39m \u001b[34mtibble \u001b[39m 3.1.6     \u001b[32m✔\u001b[39m \u001b[34mdplyr  \u001b[39m 1.0.7\n",
      "\u001b[32m✔\u001b[39m \u001b[34mtidyr  \u001b[39m 1.2.0     \u001b[32m✔\u001b[39m \u001b[34mstringr\u001b[39m 1.4.0\n",
      "\u001b[32m✔\u001b[39m \u001b[34mreadr  \u001b[39m 2.1.2     \u001b[32m✔\u001b[39m \u001b[34mforcats\u001b[39m 0.5.1\n",
      "\n",
      "── \u001b[1mConflicts\u001b[22m ────────────────────────────────────────── tidyverse_conflicts() ──\n",
      "\u001b[31m✖\u001b[39m \u001b[34mdplyr\u001b[39m::\u001b[32mfilter()\u001b[39m masks \u001b[34mstats\u001b[39m::filter()\n",
      "\u001b[31m✖\u001b[39m \u001b[34mdplyr\u001b[39m::\u001b[32mlag()\u001b[39m    masks \u001b[34mstats\u001b[39m::lag()\n",
      "\n"
     ]
    }
   ],
   "source": [
    "library(tidyverse) "
   ]
  },
  {
   "cell_type": "code",
   "execution_count": 2,
   "id": "e646bb3c-f771-4b81-b448-6035bdb231a1",
   "metadata": {
    "tags": []
   },
   "outputs": [
    {
     "name": "stderr",
     "output_type": "stream",
     "text": [
      "\u001b[1mRows: \u001b[22m\u001b[34m59\u001b[39m \u001b[1mColumns: \u001b[22m\u001b[34m17\u001b[39m\n",
      "\n",
      "\u001b[36m──\u001b[39m \u001b[1mColumn specification\u001b[22m \u001b[36m────────────────────────────────────────────────────────\u001b[39m\n",
      "\u001b[1mDelimiter:\u001b[22m \",\"\n",
      "\u001b[31mchr\u001b[39m  (7): state_name, coastal_water_area_sqmi, coastal_water_area_sqkm, grea...\n",
      "\u001b[32mdbl\u001b[39m (10): total_area_sqmi, total_area_sqkm, land_area_sqmi, land_area_sqkm, ...\n",
      "\n",
      "\n",
      "\u001b[36mℹ\u001b[39m Use `spec()` to retrieve the full column specification for this data.\n",
      "\u001b[36mℹ\u001b[39m Specify the column types or set `show_col_types = FALSE` to quiet this message.\n",
      "\n"
     ]
    },
    {
     "data": {
      "text/html": [
       "<table class=\"dataframe\">\n",
       "<caption>A tibble: 6 × 17</caption>\n",
       "<thead>\n",
       "\t<tr><th scope=col>state_name</th><th scope=col>total_area_sqmi</th><th scope=col>total_area_sqkm</th><th scope=col>land_area_sqmi</th><th scope=col>land_area_sqkm</th><th scope=col>total_water_area_sqmi</th><th scope=col>total_water_area_sqkm</th><th scope=col>inland_water_area_sqmi</th><th scope=col>inland_water_area_sqkm</th><th scope=col>coastal_water_area_sqmi</th><th scope=col>coastal_water_area_sqkm</th><th scope=col>great_lakes_water_area_sqmi</th><th scope=col>great_lakes_water_area_sqkm</th><th scope=col>territorial_water_area_sqmi</th><th scope=col>territorial_water_area_sqkm</th><th scope=col>internal_point_lattitude</th><th scope=col>internal_point_longitude</th></tr>\n",
       "\t<tr><th scope=col>&lt;chr&gt;</th><th scope=col>&lt;dbl&gt;</th><th scope=col>&lt;dbl&gt;</th><th scope=col>&lt;dbl&gt;</th><th scope=col>&lt;dbl&gt;</th><th scope=col>&lt;dbl&gt;</th><th scope=col>&lt;dbl&gt;</th><th scope=col>&lt;dbl&gt;</th><th scope=col>&lt;dbl&gt;</th><th scope=col>&lt;chr&gt;</th><th scope=col>&lt;chr&gt;</th><th scope=col>&lt;chr&gt;</th><th scope=col>&lt;chr&gt;</th><th scope=col>&lt;chr&gt;</th><th scope=col>&lt;chr&gt;</th><th scope=col>&lt;dbl&gt;</th><th scope=col>&lt;dbl&gt;</th></tr>\n",
       "</thead>\n",
       "<tbody>\n",
       "\t<tr><td>Total3        </td><td>3805927</td><td>9857306</td><td>3535932</td><td>9158022</td><td>269995</td><td>699284</td><td>85763</td><td>222125</td><td>42371</td><td>109742</td><td>60094</td><td>155643</td><td>81767</td><td>211774</td><td>      NA</td><td>        NA</td></tr>\n",
       "\t<tr><td>United States4</td><td>3796742</td><td>9833517</td><td>3531905</td><td>9147593</td><td>264837</td><td>685924</td><td>85647</td><td>221824</td><td>42337</td><td>109652</td><td>60094</td><td>155643</td><td>76759</td><td>198806</td><td>      NA</td><td>        NA</td></tr>\n",
       "\t<tr><td>Alabama       </td><td>  52420</td><td> 135767</td><td>  50645</td><td> 131171</td><td>  1775</td><td>  4597</td><td> 1058</td><td>  2740</td><td>517  </td><td>1340  </td><td>—    </td><td>—     </td><td>199  </td><td>516   </td><td>32.73963</td><td> -86.84346</td></tr>\n",
       "\t<tr><td>Alaska        </td><td> 665384</td><td>1723337</td><td> 570641</td><td>1477953</td><td> 94743</td><td>245383</td><td>19304</td><td> 49997</td><td>26119</td><td>67647 </td><td>—    </td><td>—     </td><td>49320</td><td>127739</td><td>63.34619</td><td>-152.83707</td></tr>\n",
       "\t<tr><td>Arizona       </td><td> 113990</td><td> 295234</td><td> 113594</td><td> 294207</td><td>   396</td><td>  1026</td><td>  396</td><td>  1026</td><td>—    </td><td>—     </td><td>—    </td><td>—     </td><td>—    </td><td>—     </td><td>34.20996</td><td>-111.60240</td></tr>\n",
       "\t<tr><td>Arkansas      </td><td>  53179</td><td> 137732</td><td>  52035</td><td> 134771</td><td>  1143</td><td>  2961</td><td> 1143</td><td>  2961</td><td>—    </td><td>—     </td><td>—    </td><td>—     </td><td>—    </td><td>—     </td><td>34.89553</td><td> -92.44463</td></tr>\n",
       "</tbody>\n",
       "</table>\n"
      ],
      "text/latex": [
       "A tibble: 6 × 17\n",
       "\\begin{tabular}{lllllllllllllllll}\n",
       " state\\_name & total\\_area\\_sqmi & total\\_area\\_sqkm & land\\_area\\_sqmi & land\\_area\\_sqkm & total\\_water\\_area\\_sqmi & total\\_water\\_area\\_sqkm & inland\\_water\\_area\\_sqmi & inland\\_water\\_area\\_sqkm & coastal\\_water\\_area\\_sqmi & coastal\\_water\\_area\\_sqkm & great\\_lakes\\_water\\_area\\_sqmi & great\\_lakes\\_water\\_area\\_sqkm & territorial\\_water\\_area\\_sqmi & territorial\\_water\\_area\\_sqkm & internal\\_point\\_lattitude & internal\\_point\\_longitude\\\\\n",
       " <chr> & <dbl> & <dbl> & <dbl> & <dbl> & <dbl> & <dbl> & <dbl> & <dbl> & <chr> & <chr> & <chr> & <chr> & <chr> & <chr> & <dbl> & <dbl>\\\\\n",
       "\\hline\n",
       "\t Total3         & 3805927 & 9857306 & 3535932 & 9158022 & 269995 & 699284 & 85763 & 222125 & 42371 & 109742 & 60094 & 155643 & 81767 & 211774 &       NA &         NA\\\\\n",
       "\t United States4 & 3796742 & 9833517 & 3531905 & 9147593 & 264837 & 685924 & 85647 & 221824 & 42337 & 109652 & 60094 & 155643 & 76759 & 198806 &       NA &         NA\\\\\n",
       "\t Alabama        &   52420 &  135767 &   50645 &  131171 &   1775 &   4597 &  1058 &   2740 & 517   & 1340   & —     & —      & 199   & 516    & 32.73963 &  -86.84346\\\\\n",
       "\t Alaska         &  665384 & 1723337 &  570641 & 1477953 &  94743 & 245383 & 19304 &  49997 & 26119 & 67647  & —     & —      & 49320 & 127739 & 63.34619 & -152.83707\\\\\n",
       "\t Arizona        &  113990 &  295234 &  113594 &  294207 &    396 &   1026 &   396 &   1026 & —     & —      & —     & —      & —     & —      & 34.20996 & -111.60240\\\\\n",
       "\t Arkansas       &   53179 &  137732 &   52035 &  134771 &   1143 &   2961 &  1143 &   2961 & —     & —      & —     & —      & —     & —      & 34.89553 &  -92.44463\\\\\n",
       "\\end{tabular}\n"
      ],
      "text/markdown": [
       "\n",
       "A tibble: 6 × 17\n",
       "\n",
       "| state_name &lt;chr&gt; | total_area_sqmi &lt;dbl&gt; | total_area_sqkm &lt;dbl&gt; | land_area_sqmi &lt;dbl&gt; | land_area_sqkm &lt;dbl&gt; | total_water_area_sqmi &lt;dbl&gt; | total_water_area_sqkm &lt;dbl&gt; | inland_water_area_sqmi &lt;dbl&gt; | inland_water_area_sqkm &lt;dbl&gt; | coastal_water_area_sqmi &lt;chr&gt; | coastal_water_area_sqkm &lt;chr&gt; | great_lakes_water_area_sqmi &lt;chr&gt; | great_lakes_water_area_sqkm &lt;chr&gt; | territorial_water_area_sqmi &lt;chr&gt; | territorial_water_area_sqkm &lt;chr&gt; | internal_point_lattitude &lt;dbl&gt; | internal_point_longitude &lt;dbl&gt; |\n",
       "|---|---|---|---|---|---|---|---|---|---|---|---|---|---|---|---|---|\n",
       "| Total3         | 3805927 | 9857306 | 3535932 | 9158022 | 269995 | 699284 | 85763 | 222125 | 42371 | 109742 | 60094 | 155643 | 81767 | 211774 |       NA |         NA |\n",
       "| United States4 | 3796742 | 9833517 | 3531905 | 9147593 | 264837 | 685924 | 85647 | 221824 | 42337 | 109652 | 60094 | 155643 | 76759 | 198806 |       NA |         NA |\n",
       "| Alabama        |   52420 |  135767 |   50645 |  131171 |   1775 |   4597 |  1058 |   2740 | 517   | 1340   | —     | —      | 199   | 516    | 32.73963 |  -86.84346 |\n",
       "| Alaska         |  665384 | 1723337 |  570641 | 1477953 |  94743 | 245383 | 19304 |  49997 | 26119 | 67647  | —     | —      | 49320 | 127739 | 63.34619 | -152.83707 |\n",
       "| Arizona        |  113990 |  295234 |  113594 |  294207 |    396 |   1026 |   396 |   1026 | —     | —      | —     | —      | —     | —      | 34.20996 | -111.60240 |\n",
       "| Arkansas       |   53179 |  137732 |   52035 |  134771 |   1143 |   2961 |  1143 |   2961 | —     | —      | —     | —      | —     | —      | 34.89553 |  -92.44463 |\n",
       "\n"
      ],
      "text/plain": [
       "  state_name     total_area_sqmi total_area_sqkm land_area_sqmi land_area_sqkm\n",
       "1 Total3         3805927         9857306         3535932        9158022       \n",
       "2 United States4 3796742         9833517         3531905        9147593       \n",
       "3 Alabama          52420          135767           50645         131171       \n",
       "4 Alaska          665384         1723337          570641        1477953       \n",
       "5 Arizona         113990          295234          113594         294207       \n",
       "6 Arkansas         53179          137732           52035         134771       \n",
       "  total_water_area_sqmi total_water_area_sqkm inland_water_area_sqmi\n",
       "1 269995                699284                85763                 \n",
       "2 264837                685924                85647                 \n",
       "3   1775                  4597                 1058                 \n",
       "4  94743                245383                19304                 \n",
       "5    396                  1026                  396                 \n",
       "6   1143                  2961                 1143                 \n",
       "  inland_water_area_sqkm coastal_water_area_sqmi coastal_water_area_sqkm\n",
       "1 222125                 42371                   109742                 \n",
       "2 221824                 42337                   109652                 \n",
       "3   2740                 517                     1340                   \n",
       "4  49997                 26119                   67647                  \n",
       "5   1026                 —                       —                      \n",
       "6   2961                 —                       —                      \n",
       "  great_lakes_water_area_sqmi great_lakes_water_area_sqkm\n",
       "1 60094                       155643                     \n",
       "2 60094                       155643                     \n",
       "3 —                           —                          \n",
       "4 —                           —                          \n",
       "5 —                           —                          \n",
       "6 —                           —                          \n",
       "  territorial_water_area_sqmi territorial_water_area_sqkm\n",
       "1 81767                       211774                     \n",
       "2 76759                       198806                     \n",
       "3 199                         516                        \n",
       "4 49320                       127739                     \n",
       "5 —                           —                          \n",
       "6 —                           —                          \n",
       "  internal_point_lattitude internal_point_longitude\n",
       "1       NA                         NA              \n",
       "2       NA                         NA              \n",
       "3 32.73963                  -86.84346              \n",
       "4 63.34619                 -152.83707              \n",
       "5 34.20996                 -111.60240              \n",
       "6 34.89553                  -92.44463              "
      ]
     },
     "metadata": {},
     "output_type": "display_data"
    },
    {
     "name": "stderr",
     "output_type": "stream",
     "text": [
      "\u001b[1mRows: \u001b[22m\u001b[34m1150\u001b[39m \u001b[1mColumns: \u001b[22m\u001b[34m3\u001b[39m\n",
      "\n",
      "\u001b[36m──\u001b[39m \u001b[1mColumn specification\u001b[22m \u001b[36m────────────────────────────────────────────────────────\u001b[39m\n",
      "\u001b[1mDelimiter:\u001b[22m \",\"\n",
      "\u001b[31mchr\u001b[39m (1): State\n",
      "\u001b[32mdbl\u001b[39m (2): Year, Population\n",
      "\n",
      "\n",
      "\u001b[36mℹ\u001b[39m Use `spec()` to retrieve the full column specification for this data.\n",
      "\u001b[36mℹ\u001b[39m Specify the column types or set `show_col_types = FALSE` to quiet this message.\n",
      "\n"
     ]
    },
    {
     "data": {
      "text/html": [
       "<table class=\"dataframe\">\n",
       "<caption>A tibble: 6 × 3</caption>\n",
       "<thead>\n",
       "\t<tr><th scope=col>state_name</th><th scope=col>year</th><th scope=col>population</th></tr>\n",
       "\t<tr><th scope=col>&lt;chr&gt;</th><th scope=col>&lt;dbl&gt;</th><th scope=col>&lt;dbl&gt;</th></tr>\n",
       "</thead>\n",
       "<tbody>\n",
       "\t<tr><td>Alabama</td><td>1997</td><td>4.368078</td></tr>\n",
       "\t<tr><td>Alabama</td><td>1998</td><td>4.405941</td></tr>\n",
       "\t<tr><td>Alabama</td><td>1999</td><td>4.429410</td></tr>\n",
       "\t<tr><td>Alabama</td><td>2000</td><td>4.452441</td></tr>\n",
       "\t<tr><td>Alabama</td><td>2001</td><td>4.467493</td></tr>\n",
       "\t<tr><td>Alabama</td><td>2002</td><td>4.475728</td></tr>\n",
       "</tbody>\n",
       "</table>\n"
      ],
      "text/latex": [
       "A tibble: 6 × 3\n",
       "\\begin{tabular}{lll}\n",
       " state\\_name & year & population\\\\\n",
       " <chr> & <dbl> & <dbl>\\\\\n",
       "\\hline\n",
       "\t Alabama & 1997 & 4.368078\\\\\n",
       "\t Alabama & 1998 & 4.405941\\\\\n",
       "\t Alabama & 1999 & 4.429410\\\\\n",
       "\t Alabama & 2000 & 4.452441\\\\\n",
       "\t Alabama & 2001 & 4.467493\\\\\n",
       "\t Alabama & 2002 & 4.475728\\\\\n",
       "\\end{tabular}\n"
      ],
      "text/markdown": [
       "\n",
       "A tibble: 6 × 3\n",
       "\n",
       "| state_name &lt;chr&gt; | year &lt;dbl&gt; | population &lt;dbl&gt; |\n",
       "|---|---|---|\n",
       "| Alabama | 1997 | 4.368078 |\n",
       "| Alabama | 1998 | 4.405941 |\n",
       "| Alabama | 1999 | 4.429410 |\n",
       "| Alabama | 2000 | 4.452441 |\n",
       "| Alabama | 2001 | 4.467493 |\n",
       "| Alabama | 2002 | 4.475728 |\n",
       "\n"
      ],
      "text/plain": [
       "  state_name year population\n",
       "1 Alabama    1997 4.368078  \n",
       "2 Alabama    1998 4.405941  \n",
       "3 Alabama    1999 4.429410  \n",
       "4 Alabama    2000 4.452441  \n",
       "5 Alabama    2001 4.467493  \n",
       "6 Alabama    2002 4.475728  "
      ]
     },
     "metadata": {},
     "output_type": "display_data"
    },
    {
     "name": "stderr",
     "output_type": "stream",
     "text": [
      "\u001b[1mRows: \u001b[22m\u001b[34m50\u001b[39m \u001b[1mColumns: \u001b[22m\u001b[34m24\u001b[39m\n",
      "\n",
      "\u001b[36m──\u001b[39m \u001b[1mColumn specification\u001b[22m \u001b[36m────────────────────────────────────────────────────────\u001b[39m\n",
      "\u001b[1mDelimiter:\u001b[22m \",\"\n",
      "\u001b[31mchr\u001b[39m  (1): state_name\n",
      "\u001b[32mdbl\u001b[39m (23): 1997, 1998, 1999, 2000, 2001, 2002, 2003, 2004, 2005, 2006, 2007, ...\n",
      "\n",
      "\n",
      "\u001b[36mℹ\u001b[39m Use `spec()` to retrieve the full column specification for this data.\n",
      "\u001b[36mℹ\u001b[39m Specify the column types or set `show_col_types = FALSE` to quiet this message.\n",
      "\n"
     ]
    },
    {
     "data": {
      "text/html": [
       "<style>\n",
       ".list-inline {list-style: none; margin:0; padding: 0}\n",
       ".list-inline>li {display: inline-block}\n",
       ".list-inline>li:not(:last-child)::after {content: \"\\00b7\"; padding: 0 .5ex}\n",
       "</style>\n",
       "<ol class=list-inline><li>'Alabama'</li><li>'Alaska'</li><li>'Arizona'</li><li>'Arkansas'</li><li>'California'</li><li>'Colorado'</li><li>'Connecticut'</li><li>'Delaware'</li><li>'Florida'</li><li>'Georgia'</li><li>'Hawaii'</li><li>'Idaho'</li><li>'Illinois'</li><li>'Indiana'</li><li>'Iowa'</li><li>'Kansas'</li><li>'Kentucky'</li><li>'Louisiana'</li><li>'Maine'</li><li>'Maryland'</li><li>'Massachusetts'</li><li>'Michigan'</li><li>'Minnesota'</li><li>'Mississippi'</li><li>'Missouri'</li><li>'Montana'</li><li>'Nebraska'</li><li>'Nevada'</li><li>'New Hampshire'</li><li>'New Jersey'</li><li>'New Mexico'</li><li>'New York'</li><li>'North Carolina'</li><li>'North Dakota'</li><li>'Ohio'</li><li>'Oklahoma'</li><li>'Oregon'</li><li>'Pennsylvania'</li><li>'Rhode Island'</li><li>'South Carolina'</li><li>'South Dakota'</li><li>'Tennessee'</li><li>'Texas'</li><li>'Utah'</li><li>'Vermont'</li><li>'Virginia'</li><li>'Washington'</li><li>'West Virginia'</li><li>'Wisconsin'</li><li>'Wyoming'</li></ol>\n"
      ],
      "text/latex": [
       "\\begin{enumerate*}\n",
       "\\item 'Alabama'\n",
       "\\item 'Alaska'\n",
       "\\item 'Arizona'\n",
       "\\item 'Arkansas'\n",
       "\\item 'California'\n",
       "\\item 'Colorado'\n",
       "\\item 'Connecticut'\n",
       "\\item 'Delaware'\n",
       "\\item 'Florida'\n",
       "\\item 'Georgia'\n",
       "\\item 'Hawaii'\n",
       "\\item 'Idaho'\n",
       "\\item 'Illinois'\n",
       "\\item 'Indiana'\n",
       "\\item 'Iowa'\n",
       "\\item 'Kansas'\n",
       "\\item 'Kentucky'\n",
       "\\item 'Louisiana'\n",
       "\\item 'Maine'\n",
       "\\item 'Maryland'\n",
       "\\item 'Massachusetts'\n",
       "\\item 'Michigan'\n",
       "\\item 'Minnesota'\n",
       "\\item 'Mississippi'\n",
       "\\item 'Missouri'\n",
       "\\item 'Montana'\n",
       "\\item 'Nebraska'\n",
       "\\item 'Nevada'\n",
       "\\item 'New Hampshire'\n",
       "\\item 'New Jersey'\n",
       "\\item 'New Mexico'\n",
       "\\item 'New York'\n",
       "\\item 'North Carolina'\n",
       "\\item 'North Dakota'\n",
       "\\item 'Ohio'\n",
       "\\item 'Oklahoma'\n",
       "\\item 'Oregon'\n",
       "\\item 'Pennsylvania'\n",
       "\\item 'Rhode Island'\n",
       "\\item 'South Carolina'\n",
       "\\item 'South Dakota'\n",
       "\\item 'Tennessee'\n",
       "\\item 'Texas'\n",
       "\\item 'Utah'\n",
       "\\item 'Vermont'\n",
       "\\item 'Virginia'\n",
       "\\item 'Washington'\n",
       "\\item 'West Virginia'\n",
       "\\item 'Wisconsin'\n",
       "\\item 'Wyoming'\n",
       "\\end{enumerate*}\n"
      ],
      "text/markdown": [
       "1. 'Alabama'\n",
       "2. 'Alaska'\n",
       "3. 'Arizona'\n",
       "4. 'Arkansas'\n",
       "5. 'California'\n",
       "6. 'Colorado'\n",
       "7. 'Connecticut'\n",
       "8. 'Delaware'\n",
       "9. 'Florida'\n",
       "10. 'Georgia'\n",
       "11. 'Hawaii'\n",
       "12. 'Idaho'\n",
       "13. 'Illinois'\n",
       "14. 'Indiana'\n",
       "15. 'Iowa'\n",
       "16. 'Kansas'\n",
       "17. 'Kentucky'\n",
       "18. 'Louisiana'\n",
       "19. 'Maine'\n",
       "20. 'Maryland'\n",
       "21. 'Massachusetts'\n",
       "22. 'Michigan'\n",
       "23. 'Minnesota'\n",
       "24. 'Mississippi'\n",
       "25. 'Missouri'\n",
       "26. 'Montana'\n",
       "27. 'Nebraska'\n",
       "28. 'Nevada'\n",
       "29. 'New Hampshire'\n",
       "30. 'New Jersey'\n",
       "31. 'New Mexico'\n",
       "32. 'New York'\n",
       "33. 'North Carolina'\n",
       "34. 'North Dakota'\n",
       "35. 'Ohio'\n",
       "36. 'Oklahoma'\n",
       "37. 'Oregon'\n",
       "38. 'Pennsylvania'\n",
       "39. 'Rhode Island'\n",
       "40. 'South Carolina'\n",
       "41. 'South Dakota'\n",
       "42. 'Tennessee'\n",
       "43. 'Texas'\n",
       "44. 'Utah'\n",
       "45. 'Vermont'\n",
       "46. 'Virginia'\n",
       "47. 'Washington'\n",
       "48. 'West Virginia'\n",
       "49. 'Wisconsin'\n",
       "50. 'Wyoming'\n",
       "\n",
       "\n"
      ],
      "text/plain": [
       " [1] \"Alabama\"        \"Alaska\"         \"Arizona\"        \"Arkansas\"      \n",
       " [5] \"California\"     \"Colorado\"       \"Connecticut\"    \"Delaware\"      \n",
       " [9] \"Florida\"        \"Georgia\"        \"Hawaii\"         \"Idaho\"         \n",
       "[13] \"Illinois\"       \"Indiana\"        \"Iowa\"           \"Kansas\"        \n",
       "[17] \"Kentucky\"       \"Louisiana\"      \"Maine\"          \"Maryland\"      \n",
       "[21] \"Massachusetts\"  \"Michigan\"       \"Minnesota\"      \"Mississippi\"   \n",
       "[25] \"Missouri\"       \"Montana\"        \"Nebraska\"       \"Nevada\"        \n",
       "[29] \"New Hampshire\"  \"New Jersey\"     \"New Mexico\"     \"New York\"      \n",
       "[33] \"North Carolina\" \"North Dakota\"   \"Ohio\"           \"Oklahoma\"      \n",
       "[37] \"Oregon\"         \"Pennsylvania\"   \"Rhode Island\"   \"South Carolina\"\n",
       "[41] \"South Dakota\"   \"Tennessee\"      \"Texas\"          \"Utah\"          \n",
       "[45] \"Vermont\"        \"Virginia\"       \"Washington\"     \"West Virginia\" \n",
       "[49] \"Wisconsin\"      \"Wyoming\"       "
      ]
     },
     "metadata": {},
     "output_type": "display_data"
    }
   ],
   "source": [
    "#Open area and population data\n",
    "state_area = read_csv(\"data/state_area.csv\")\n",
    "\n",
    "head(state_area)\n",
    "\n",
    "state_pop = read_csv(\"data/dat_population.csv\")\n",
    "colnames(state_pop) = c(\"state_name\", \"year\", \"population\")\n",
    "\n",
    "head(state_pop)\n",
    "\n",
    "#Open a past file for list of 50 states\n",
    "\n",
    "oilgas = read_csv(\"https://raw.githubusercontent.com/paulh777/COMM295_data/main/output_files/percentage_oilgas_wide.csv\") \n",
    "\n",
    "state_list = oilgas$state_name\n",
    "\n",
    "state_list"
   ]
  },
  {
   "cell_type": "code",
   "execution_count": 3,
   "id": "2245c54d-07a7-4dbf-87e4-03e1fe2641f3",
   "metadata": {},
   "outputs": [
    {
     "data": {
      "text/html": [
       "<table class=\"dataframe\">\n",
       "<caption>A tibble: 6 × 2</caption>\n",
       "<thead>\n",
       "\t<tr><th scope=col>state_name</th><th scope=col>land_area_sqkm</th></tr>\n",
       "\t<tr><th scope=col>&lt;chr&gt;</th><th scope=col>&lt;dbl&gt;</th></tr>\n",
       "</thead>\n",
       "<tbody>\n",
       "\t<tr><td>Alabama   </td><td> 131171</td></tr>\n",
       "\t<tr><td>Alaska    </td><td>1477953</td></tr>\n",
       "\t<tr><td>Arizona   </td><td> 294207</td></tr>\n",
       "\t<tr><td>Arkansas  </td><td> 134771</td></tr>\n",
       "\t<tr><td>California</td><td> 403466</td></tr>\n",
       "\t<tr><td>Colorado  </td><td> 268431</td></tr>\n",
       "</tbody>\n",
       "</table>\n"
      ],
      "text/latex": [
       "A tibble: 6 × 2\n",
       "\\begin{tabular}{ll}\n",
       " state\\_name & land\\_area\\_sqkm\\\\\n",
       " <chr> & <dbl>\\\\\n",
       "\\hline\n",
       "\t Alabama    &  131171\\\\\n",
       "\t Alaska     & 1477953\\\\\n",
       "\t Arizona    &  294207\\\\\n",
       "\t Arkansas   &  134771\\\\\n",
       "\t California &  403466\\\\\n",
       "\t Colorado   &  268431\\\\\n",
       "\\end{tabular}\n"
      ],
      "text/markdown": [
       "\n",
       "A tibble: 6 × 2\n",
       "\n",
       "| state_name &lt;chr&gt; | land_area_sqkm &lt;dbl&gt; |\n",
       "|---|---|\n",
       "| Alabama    |  131171 |\n",
       "| Alaska     | 1477953 |\n",
       "| Arizona    |  294207 |\n",
       "| Arkansas   |  134771 |\n",
       "| California |  403466 |\n",
       "| Colorado   |  268431 |\n",
       "\n"
      ],
      "text/plain": [
       "  state_name land_area_sqkm\n",
       "1 Alabama     131171       \n",
       "2 Alaska     1477953       \n",
       "3 Arizona     294207       \n",
       "4 Arkansas    134771       \n",
       "5 California  403466       \n",
       "6 Colorado    268431       "
      ]
     },
     "metadata": {},
     "output_type": "display_data"
    },
    {
     "data": {
      "text/html": [
       "50"
      ],
      "text/latex": [
       "50"
      ],
      "text/markdown": [
       "50"
      ],
      "text/plain": [
       "[1] 50"
      ]
     },
     "metadata": {},
     "output_type": "display_data"
    }
   ],
   "source": [
    "#Filter out all non_states and miles\n",
    "\n",
    "state_area = state_area %>%\n",
    "    filter(state_name %in% state_list) %>%\n",
    "    select(state_name, land_area_sqkm)\n",
    "\n",
    "head(state_area)\n",
    "\n",
    "nrow(state_area) #check how many rows"
   ]
  },
  {
   "cell_type": "code",
   "execution_count": 4,
   "id": "294fb944-6338-4054-8c1d-5c8e98fa9517",
   "metadata": {},
   "outputs": [
    {
     "data": {
      "text/html": [
       "<table class=\"dataframe\">\n",
       "<caption>A tibble: 10 × 4</caption>\n",
       "<thead>\n",
       "\t<tr><th scope=col>state_name</th><th scope=col>year</th><th scope=col>population</th><th scope=col>land_area_sqkm</th></tr>\n",
       "\t<tr><th scope=col>&lt;chr&gt;</th><th scope=col>&lt;dbl&gt;</th><th scope=col>&lt;dbl&gt;</th><th scope=col>&lt;dbl&gt;</th></tr>\n",
       "</thead>\n",
       "<tbody>\n",
       "\t<tr><td>Alabama</td><td>1997</td><td>4.368078</td><td>131171</td></tr>\n",
       "\t<tr><td>Alabama</td><td>1998</td><td>4.405941</td><td>131171</td></tr>\n",
       "\t<tr><td>Alabama</td><td>1999</td><td>4.429410</td><td>131171</td></tr>\n",
       "\t<tr><td>Alabama</td><td>2000</td><td>4.452441</td><td>131171</td></tr>\n",
       "\t<tr><td>Alabama</td><td>2001</td><td>4.467493</td><td>131171</td></tr>\n",
       "\t<tr><td>Alabama</td><td>2002</td><td>4.475728</td><td>131171</td></tr>\n",
       "\t<tr><td>Alabama</td><td>2003</td><td>4.509677</td><td>131171</td></tr>\n",
       "\t<tr><td>Alabama</td><td>2004</td><td>4.536741</td><td>131171</td></tr>\n",
       "\t<tr><td>Alabama</td><td>2005</td><td>4.570064</td><td>131171</td></tr>\n",
       "\t<tr><td>Alabama</td><td>2006</td><td>4.628571</td><td>131171</td></tr>\n",
       "</tbody>\n",
       "</table>\n"
      ],
      "text/latex": [
       "A tibble: 10 × 4\n",
       "\\begin{tabular}{llll}\n",
       " state\\_name & year & population & land\\_area\\_sqkm\\\\\n",
       " <chr> & <dbl> & <dbl> & <dbl>\\\\\n",
       "\\hline\n",
       "\t Alabama & 1997 & 4.368078 & 131171\\\\\n",
       "\t Alabama & 1998 & 4.405941 & 131171\\\\\n",
       "\t Alabama & 1999 & 4.429410 & 131171\\\\\n",
       "\t Alabama & 2000 & 4.452441 & 131171\\\\\n",
       "\t Alabama & 2001 & 4.467493 & 131171\\\\\n",
       "\t Alabama & 2002 & 4.475728 & 131171\\\\\n",
       "\t Alabama & 2003 & 4.509677 & 131171\\\\\n",
       "\t Alabama & 2004 & 4.536741 & 131171\\\\\n",
       "\t Alabama & 2005 & 4.570064 & 131171\\\\\n",
       "\t Alabama & 2006 & 4.628571 & 131171\\\\\n",
       "\\end{tabular}\n"
      ],
      "text/markdown": [
       "\n",
       "A tibble: 10 × 4\n",
       "\n",
       "| state_name &lt;chr&gt; | year &lt;dbl&gt; | population &lt;dbl&gt; | land_area_sqkm &lt;dbl&gt; |\n",
       "|---|---|---|---|\n",
       "| Alabama | 1997 | 4.368078 | 131171 |\n",
       "| Alabama | 1998 | 4.405941 | 131171 |\n",
       "| Alabama | 1999 | 4.429410 | 131171 |\n",
       "| Alabama | 2000 | 4.452441 | 131171 |\n",
       "| Alabama | 2001 | 4.467493 | 131171 |\n",
       "| Alabama | 2002 | 4.475728 | 131171 |\n",
       "| Alabama | 2003 | 4.509677 | 131171 |\n",
       "| Alabama | 2004 | 4.536741 | 131171 |\n",
       "| Alabama | 2005 | 4.570064 | 131171 |\n",
       "| Alabama | 2006 | 4.628571 | 131171 |\n",
       "\n"
      ],
      "text/plain": [
       "   state_name year population land_area_sqkm\n",
       "1  Alabama    1997 4.368078   131171        \n",
       "2  Alabama    1998 4.405941   131171        \n",
       "3  Alabama    1999 4.429410   131171        \n",
       "4  Alabama    2000 4.452441   131171        \n",
       "5  Alabama    2001 4.467493   131171        \n",
       "6  Alabama    2002 4.475728   131171        \n",
       "7  Alabama    2003 4.509677   131171        \n",
       "8  Alabama    2004 4.536741   131171        \n",
       "9  Alabama    2005 4.570064   131171        \n",
       "10 Alabama    2006 4.628571   131171        "
      ]
     },
     "metadata": {},
     "output_type": "display_data"
    }
   ],
   "source": [
    "#Joining population and area\n",
    "pop_density = left_join(state_pop, state_area, by = \"state_name\")\n",
    "\n",
    "head(pop_density, 10)"
   ]
  },
  {
   "cell_type": "code",
   "execution_count": 5,
   "id": "03ba8651-fde9-4623-9b67-4e0c451ea7a6",
   "metadata": {
    "tags": []
   },
   "outputs": [],
   "source": [
    "pop_density = pop_density %>%\n",
    "    mutate(population = population *10^6,          #multiplying by 1 million\n",
    "           pop_density = population/land_area_sqkm)"
   ]
  },
  {
   "cell_type": "code",
   "execution_count": 6,
   "id": "84104dec-d775-4678-9cd2-f8e51ac55008",
   "metadata": {},
   "outputs": [
    {
     "data": {
      "text/html": [
       "<table class=\"dataframe\">\n",
       "<caption>A tibble: 6 × 5</caption>\n",
       "<thead>\n",
       "\t<tr><th scope=col>state_name</th><th scope=col>year</th><th scope=col>population</th><th scope=col>land_area_sqkm</th><th scope=col>pop_density</th></tr>\n",
       "\t<tr><th scope=col>&lt;chr&gt;</th><th scope=col>&lt;dbl&gt;</th><th scope=col>&lt;dbl&gt;</th><th scope=col>&lt;dbl&gt;</th><th scope=col>&lt;dbl&gt;</th></tr>\n",
       "</thead>\n",
       "<tbody>\n",
       "\t<tr><td>Alabama</td><td>1997</td><td>4368078</td><td>131171</td><td>33.30064</td></tr>\n",
       "\t<tr><td>Alabama</td><td>1998</td><td>4405941</td><td>131171</td><td>33.58929</td></tr>\n",
       "\t<tr><td>Alabama</td><td>1999</td><td>4429410</td><td>131171</td><td>33.76821</td></tr>\n",
       "\t<tr><td>Alabama</td><td>2000</td><td>4452441</td><td>131171</td><td>33.94379</td></tr>\n",
       "\t<tr><td>Alabama</td><td>2001</td><td>4467493</td><td>131171</td><td>34.05854</td></tr>\n",
       "\t<tr><td>Alabama</td><td>2002</td><td>4475728</td><td>131171</td><td>34.12132</td></tr>\n",
       "</tbody>\n",
       "</table>\n"
      ],
      "text/latex": [
       "A tibble: 6 × 5\n",
       "\\begin{tabular}{lllll}\n",
       " state\\_name & year & population & land\\_area\\_sqkm & pop\\_density\\\\\n",
       " <chr> & <dbl> & <dbl> & <dbl> & <dbl>\\\\\n",
       "\\hline\n",
       "\t Alabama & 1997 & 4368078 & 131171 & 33.30064\\\\\n",
       "\t Alabama & 1998 & 4405941 & 131171 & 33.58929\\\\\n",
       "\t Alabama & 1999 & 4429410 & 131171 & 33.76821\\\\\n",
       "\t Alabama & 2000 & 4452441 & 131171 & 33.94379\\\\\n",
       "\t Alabama & 2001 & 4467493 & 131171 & 34.05854\\\\\n",
       "\t Alabama & 2002 & 4475728 & 131171 & 34.12132\\\\\n",
       "\\end{tabular}\n"
      ],
      "text/markdown": [
       "\n",
       "A tibble: 6 × 5\n",
       "\n",
       "| state_name &lt;chr&gt; | year &lt;dbl&gt; | population &lt;dbl&gt; | land_area_sqkm &lt;dbl&gt; | pop_density &lt;dbl&gt; |\n",
       "|---|---|---|---|---|\n",
       "| Alabama | 1997 | 4368078 | 131171 | 33.30064 |\n",
       "| Alabama | 1998 | 4405941 | 131171 | 33.58929 |\n",
       "| Alabama | 1999 | 4429410 | 131171 | 33.76821 |\n",
       "| Alabama | 2000 | 4452441 | 131171 | 33.94379 |\n",
       "| Alabama | 2001 | 4467493 | 131171 | 34.05854 |\n",
       "| Alabama | 2002 | 4475728 | 131171 | 34.12132 |\n",
       "\n"
      ],
      "text/plain": [
       "  state_name year population land_area_sqkm pop_density\n",
       "1 Alabama    1997 4368078    131171         33.30064   \n",
       "2 Alabama    1998 4405941    131171         33.58929   \n",
       "3 Alabama    1999 4429410    131171         33.76821   \n",
       "4 Alabama    2000 4452441    131171         33.94379   \n",
       "5 Alabama    2001 4467493    131171         34.05854   \n",
       "6 Alabama    2002 4475728    131171         34.12132   "
      ]
     },
     "metadata": {},
     "output_type": "display_data"
    },
    {
     "data": {
      "text/html": [
       "<table class=\"dataframe\">\n",
       "<caption>A tibble: 6 × 24</caption>\n",
       "<thead>\n",
       "\t<tr><th scope=col>state_name</th><th scope=col>1997</th><th scope=col>1998</th><th scope=col>1999</th><th scope=col>2000</th><th scope=col>2001</th><th scope=col>2002</th><th scope=col>2003</th><th scope=col>2004</th><th scope=col>2005</th><th scope=col>⋯</th><th scope=col>2010</th><th scope=col>2011</th><th scope=col>2012</th><th scope=col>2013</th><th scope=col>2014</th><th scope=col>2015</th><th scope=col>2016</th><th scope=col>2017</th><th scope=col>2018</th><th scope=col>2019</th></tr>\n",
       "\t<tr><th scope=col>&lt;chr&gt;</th><th scope=col>&lt;dbl&gt;</th><th scope=col>&lt;dbl&gt;</th><th scope=col>&lt;dbl&gt;</th><th scope=col>&lt;dbl&gt;</th><th scope=col>&lt;dbl&gt;</th><th scope=col>&lt;dbl&gt;</th><th scope=col>&lt;dbl&gt;</th><th scope=col>&lt;dbl&gt;</th><th scope=col>&lt;dbl&gt;</th><th scope=col>⋯</th><th scope=col>&lt;dbl&gt;</th><th scope=col>&lt;dbl&gt;</th><th scope=col>&lt;dbl&gt;</th><th scope=col>&lt;dbl&gt;</th><th scope=col>&lt;dbl&gt;</th><th scope=col>&lt;dbl&gt;</th><th scope=col>&lt;dbl&gt;</th><th scope=col>&lt;dbl&gt;</th><th scope=col>&lt;dbl&gt;</th><th scope=col>&lt;dbl&gt;</th></tr>\n",
       "</thead>\n",
       "<tbody>\n",
       "\t<tr><td>Alabama   </td><td>33.3006394</td><td>33.5892887</td><td>33.7682098</td><td>33.9437875</td><td>34.0585442</td><td>34.1213237</td><td>34.3801406</td><td>34.5864651</td><td>34.8405036</td><td>⋯</td><td>36.4668524</td><td>36.5652187</td><td>36.6532476</td><td>36.8935011</td><td>36.9429966</td><td>36.9405467</td><td>37.1407923</td><td>37.1267670</td><td>37.2563792</td><td>37.5181732</td></tr>\n",
       "\t<tr><td>Alaska    </td><td> 0.4148273</td><td> 0.4192805</td><td> 0.4228575</td><td> 0.4251371</td><td> 0.4289945</td><td> 0.4338035</td><td> 0.4384688</td><td> 0.4459266</td><td> 0.4513911</td><td>⋯</td><td> 0.4827363</td><td> 0.4883713</td><td> 0.4948149</td><td> 0.4990193</td><td> 0.4986333</td><td> 0.4985558</td><td> 0.5021961</td><td> 0.5011386</td><td> 0.4987841</td><td> 0.4969545</td></tr>\n",
       "\t<tr><td>Arizona   </td><td>16.1394677</td><td>16.6051464</td><td>17.0753110</td><td>17.5313029</td><td>17.9227450</td><td>18.3005379</td><td>18.7564969</td><td>19.2278795</td><td>19.8035645</td><td>⋯</td><td>21.8191778</td><td>21.9919943</td><td>22.2329716</td><td>22.5011641</td><td>22.8082433</td><td>23.2303527</td><td>23.5852012</td><td>24.0317617</td><td>24.4154833</td><td>24.7562586</td></tr>\n",
       "\t<tr><td>Arkansas  </td><td>19.3181339</td><td>19.5178101</td><td>19.6810240</td><td>19.8682578</td><td>19.9773985</td><td>20.0930809</td><td>20.2422641</td><td>20.4294987</td><td>20.5844992</td><td>⋯</td><td>21.7018406</td><td>21.8711611</td><td>21.9618570</td><td>22.0030123</td><td>22.0361026</td><td>22.1475576</td><td>22.1529626</td><td>22.2599817</td><td>22.3547051</td><td>22.4670513</td></tr>\n",
       "\t<tr><td>California</td><td>80.1768274</td><td>81.7011504</td><td>83.0203360</td><td>84.2257395</td><td>85.4691593</td><td>86.6131336</td><td>87.5900885</td><td>88.4607602</td><td>88.5901644</td><td>⋯</td><td>92.0668243</td><td>93.3395643</td><td>93.9414323</td><td>95.2461209</td><td>95.1202277</td><td>96.7725767</td><td>97.3233598</td><td>97.0982045</td><td>97.6701715</td><td>97.5612254</td></tr>\n",
       "\t<tr><td>Colorado  </td><td>14.9999628</td><td>15.3719794</td><td>15.7446999</td><td>16.1193121</td><td>16.4866272</td><td>16.7275616</td><td>16.8660221</td><td>17.0745306</td><td>17.2230048</td><td>⋯</td><td>18.8032247</td><td>19.0384018</td><td>19.3040974</td><td>19.6059961</td><td>19.9833918</td><td>20.3667455</td><td>20.5825706</td><td>20.9374221</td><td>21.2439385</td><td>21.4852070</td></tr>\n",
       "</tbody>\n",
       "</table>\n"
      ],
      "text/latex": [
       "A tibble: 6 × 24\n",
       "\\begin{tabular}{lllllllllllllllllllll}\n",
       " state\\_name & 1997 & 1998 & 1999 & 2000 & 2001 & 2002 & 2003 & 2004 & 2005 & ⋯ & 2010 & 2011 & 2012 & 2013 & 2014 & 2015 & 2016 & 2017 & 2018 & 2019\\\\\n",
       " <chr> & <dbl> & <dbl> & <dbl> & <dbl> & <dbl> & <dbl> & <dbl> & <dbl> & <dbl> & ⋯ & <dbl> & <dbl> & <dbl> & <dbl> & <dbl> & <dbl> & <dbl> & <dbl> & <dbl> & <dbl>\\\\\n",
       "\\hline\n",
       "\t Alabama    & 33.3006394 & 33.5892887 & 33.7682098 & 33.9437875 & 34.0585442 & 34.1213237 & 34.3801406 & 34.5864651 & 34.8405036 & ⋯ & 36.4668524 & 36.5652187 & 36.6532476 & 36.8935011 & 36.9429966 & 36.9405467 & 37.1407923 & 37.1267670 & 37.2563792 & 37.5181732\\\\\n",
       "\t Alaska     &  0.4148273 &  0.4192805 &  0.4228575 &  0.4251371 &  0.4289945 &  0.4338035 &  0.4384688 &  0.4459266 &  0.4513911 & ⋯ &  0.4827363 &  0.4883713 &  0.4948149 &  0.4990193 &  0.4986333 &  0.4985558 &  0.5021961 &  0.5011386 &  0.4987841 &  0.4969545\\\\\n",
       "\t Arizona    & 16.1394677 & 16.6051464 & 17.0753110 & 17.5313029 & 17.9227450 & 18.3005379 & 18.7564969 & 19.2278795 & 19.8035645 & ⋯ & 21.8191778 & 21.9919943 & 22.2329716 & 22.5011641 & 22.8082433 & 23.2303527 & 23.5852012 & 24.0317617 & 24.4154833 & 24.7562586\\\\\n",
       "\t Arkansas   & 19.3181339 & 19.5178101 & 19.6810240 & 19.8682578 & 19.9773985 & 20.0930809 & 20.2422641 & 20.4294987 & 20.5844992 & ⋯ & 21.7018406 & 21.8711611 & 21.9618570 & 22.0030123 & 22.0361026 & 22.1475576 & 22.1529626 & 22.2599817 & 22.3547051 & 22.4670513\\\\\n",
       "\t California & 80.1768274 & 81.7011504 & 83.0203360 & 84.2257395 & 85.4691593 & 86.6131336 & 87.5900885 & 88.4607602 & 88.5901644 & ⋯ & 92.0668243 & 93.3395643 & 93.9414323 & 95.2461209 & 95.1202277 & 96.7725767 & 97.3233598 & 97.0982045 & 97.6701715 & 97.5612254\\\\\n",
       "\t Colorado   & 14.9999628 & 15.3719794 & 15.7446999 & 16.1193121 & 16.4866272 & 16.7275616 & 16.8660221 & 17.0745306 & 17.2230048 & ⋯ & 18.8032247 & 19.0384018 & 19.3040974 & 19.6059961 & 19.9833918 & 20.3667455 & 20.5825706 & 20.9374221 & 21.2439385 & 21.4852070\\\\\n",
       "\\end{tabular}\n"
      ],
      "text/markdown": [
       "\n",
       "A tibble: 6 × 24\n",
       "\n",
       "| state_name &lt;chr&gt; | 1997 &lt;dbl&gt; | 1998 &lt;dbl&gt; | 1999 &lt;dbl&gt; | 2000 &lt;dbl&gt; | 2001 &lt;dbl&gt; | 2002 &lt;dbl&gt; | 2003 &lt;dbl&gt; | 2004 &lt;dbl&gt; | 2005 &lt;dbl&gt; | ⋯ ⋯ | 2010 &lt;dbl&gt; | 2011 &lt;dbl&gt; | 2012 &lt;dbl&gt; | 2013 &lt;dbl&gt; | 2014 &lt;dbl&gt; | 2015 &lt;dbl&gt; | 2016 &lt;dbl&gt; | 2017 &lt;dbl&gt; | 2018 &lt;dbl&gt; | 2019 &lt;dbl&gt; |\n",
       "|---|---|---|---|---|---|---|---|---|---|---|---|---|---|---|---|---|---|---|---|---|\n",
       "| Alabama    | 33.3006394 | 33.5892887 | 33.7682098 | 33.9437875 | 34.0585442 | 34.1213237 | 34.3801406 | 34.5864651 | 34.8405036 | ⋯ | 36.4668524 | 36.5652187 | 36.6532476 | 36.8935011 | 36.9429966 | 36.9405467 | 37.1407923 | 37.1267670 | 37.2563792 | 37.5181732 |\n",
       "| Alaska     |  0.4148273 |  0.4192805 |  0.4228575 |  0.4251371 |  0.4289945 |  0.4338035 |  0.4384688 |  0.4459266 |  0.4513911 | ⋯ |  0.4827363 |  0.4883713 |  0.4948149 |  0.4990193 |  0.4986333 |  0.4985558 |  0.5021961 |  0.5011386 |  0.4987841 |  0.4969545 |\n",
       "| Arizona    | 16.1394677 | 16.6051464 | 17.0753110 | 17.5313029 | 17.9227450 | 18.3005379 | 18.7564969 | 19.2278795 | 19.8035645 | ⋯ | 21.8191778 | 21.9919943 | 22.2329716 | 22.5011641 | 22.8082433 | 23.2303527 | 23.5852012 | 24.0317617 | 24.4154833 | 24.7562586 |\n",
       "| Arkansas   | 19.3181339 | 19.5178101 | 19.6810240 | 19.8682578 | 19.9773985 | 20.0930809 | 20.2422641 | 20.4294987 | 20.5844992 | ⋯ | 21.7018406 | 21.8711611 | 21.9618570 | 22.0030123 | 22.0361026 | 22.1475576 | 22.1529626 | 22.2599817 | 22.3547051 | 22.4670513 |\n",
       "| California | 80.1768274 | 81.7011504 | 83.0203360 | 84.2257395 | 85.4691593 | 86.6131336 | 87.5900885 | 88.4607602 | 88.5901644 | ⋯ | 92.0668243 | 93.3395643 | 93.9414323 | 95.2461209 | 95.1202277 | 96.7725767 | 97.3233598 | 97.0982045 | 97.6701715 | 97.5612254 |\n",
       "| Colorado   | 14.9999628 | 15.3719794 | 15.7446999 | 16.1193121 | 16.4866272 | 16.7275616 | 16.8660221 | 17.0745306 | 17.2230048 | ⋯ | 18.8032247 | 19.0384018 | 19.3040974 | 19.6059961 | 19.9833918 | 20.3667455 | 20.5825706 | 20.9374221 | 21.2439385 | 21.4852070 |\n",
       "\n"
      ],
      "text/plain": [
       "  state_name 1997       1998       1999       2000       2001       2002      \n",
       "1 Alabama    33.3006394 33.5892887 33.7682098 33.9437875 34.0585442 34.1213237\n",
       "2 Alaska      0.4148273  0.4192805  0.4228575  0.4251371  0.4289945  0.4338035\n",
       "3 Arizona    16.1394677 16.6051464 17.0753110 17.5313029 17.9227450 18.3005379\n",
       "4 Arkansas   19.3181339 19.5178101 19.6810240 19.8682578 19.9773985 20.0930809\n",
       "5 California 80.1768274 81.7011504 83.0203360 84.2257395 85.4691593 86.6131336\n",
       "6 Colorado   14.9999628 15.3719794 15.7446999 16.1193121 16.4866272 16.7275616\n",
       "  2003       2004       2005       ⋯ 2010       2011       2012      \n",
       "1 34.3801406 34.5864651 34.8405036 ⋯ 36.4668524 36.5652187 36.6532476\n",
       "2  0.4384688  0.4459266  0.4513911 ⋯  0.4827363  0.4883713  0.4948149\n",
       "3 18.7564969 19.2278795 19.8035645 ⋯ 21.8191778 21.9919943 22.2329716\n",
       "4 20.2422641 20.4294987 20.5844992 ⋯ 21.7018406 21.8711611 21.9618570\n",
       "5 87.5900885 88.4607602 88.5901644 ⋯ 92.0668243 93.3395643 93.9414323\n",
       "6 16.8660221 17.0745306 17.2230048 ⋯ 18.8032247 19.0384018 19.3040974\n",
       "  2013       2014       2015       2016       2017       2018       2019      \n",
       "1 36.8935011 36.9429966 36.9405467 37.1407923 37.1267670 37.2563792 37.5181732\n",
       "2  0.4990193  0.4986333  0.4985558  0.5021961  0.5011386  0.4987841  0.4969545\n",
       "3 22.5011641 22.8082433 23.2303527 23.5852012 24.0317617 24.4154833 24.7562586\n",
       "4 22.0030123 22.0361026 22.1475576 22.1529626 22.2599817 22.3547051 22.4670513\n",
       "5 95.2461209 95.1202277 96.7725767 97.3233598 97.0982045 97.6701715 97.5612254\n",
       "6 19.6059961 19.9833918 20.3667455 20.5825706 20.9374221 21.2439385 21.4852070"
      ]
     },
     "metadata": {},
     "output_type": "display_data"
    }
   ],
   "source": [
    "head(pop_density)\n",
    "\n",
    "pop_density_wide = pop_density %>%\n",
    "    select(-population, -land_area_sqkm) %>%\n",
    "    pivot_wider(names_from = year,\n",
    "                values_from = pop_density)\n",
    "\n",
    "head(pop_density_wide)"
   ]
  },
  {
   "cell_type": "code",
   "execution_count": 7,
   "id": "e515b03c-1290-4f79-8786-6cc3aa64a1b6",
   "metadata": {
    "tags": []
   },
   "outputs": [],
   "source": [
    "#Writing output\n",
    "\n",
    "write_csv(pop_density, \"output_files/state_population_density_long.csv\")\n",
    "\n",
    "write_csv(pop_density_wide, \"output_files/state_population_density_wide.csv\")"
   ]
  },
  {
   "cell_type": "code",
   "execution_count": 8,
   "id": "f29f7f77-9a29-4ae7-b164-55bc8bc7d236",
   "metadata": {
    "tags": []
   },
   "outputs": [
    {
     "data": {
      "text/html": [
       "<table class=\"dataframe\">\n",
       "<caption>A tibble: 6 × 3</caption>\n",
       "<thead>\n",
       "\t<tr><th scope=col>state_name</th><th scope=col>mean_density</th><th scope=col>std_density</th></tr>\n",
       "\t<tr><th scope=col>&lt;chr&gt;</th><th scope=col>&lt;dbl&gt;</th><th scope=col>&lt;dbl&gt;</th></tr>\n",
       "</thead>\n",
       "<tbody>\n",
       "\t<tr><td>Alabama   </td><td>35.6216059</td><td>1.39741469</td></tr>\n",
       "\t<tr><td>Alaska    </td><td> 0.4651015</td><td>0.03138939</td></tr>\n",
       "\t<tr><td>Arizona   </td><td>20.7442107</td><td>2.62269578</td></tr>\n",
       "\t<tr><td>Arkansas  </td><td>21.1169492</td><td>1.03561908</td></tr>\n",
       "\t<tr><td>California</td><td>90.6060474</td><td>5.37440013</td></tr>\n",
       "\t<tr><td>Colorado  </td><td>18.2657330</td><td>1.94907799</td></tr>\n",
       "</tbody>\n",
       "</table>\n"
      ],
      "text/latex": [
       "A tibble: 6 × 3\n",
       "\\begin{tabular}{lll}\n",
       " state\\_name & mean\\_density & std\\_density\\\\\n",
       " <chr> & <dbl> & <dbl>\\\\\n",
       "\\hline\n",
       "\t Alabama    & 35.6216059 & 1.39741469\\\\\n",
       "\t Alaska     &  0.4651015 & 0.03138939\\\\\n",
       "\t Arizona    & 20.7442107 & 2.62269578\\\\\n",
       "\t Arkansas   & 21.1169492 & 1.03561908\\\\\n",
       "\t California & 90.6060474 & 5.37440013\\\\\n",
       "\t Colorado   & 18.2657330 & 1.94907799\\\\\n",
       "\\end{tabular}\n"
      ],
      "text/markdown": [
       "\n",
       "A tibble: 6 × 3\n",
       "\n",
       "| state_name &lt;chr&gt; | mean_density &lt;dbl&gt; | std_density &lt;dbl&gt; |\n",
       "|---|---|---|\n",
       "| Alabama    | 35.6216059 | 1.39741469 |\n",
       "| Alaska     |  0.4651015 | 0.03138939 |\n",
       "| Arizona    | 20.7442107 | 2.62269578 |\n",
       "| Arkansas   | 21.1169492 | 1.03561908 |\n",
       "| California | 90.6060474 | 5.37440013 |\n",
       "| Colorado   | 18.2657330 | 1.94907799 |\n",
       "\n"
      ],
      "text/plain": [
       "  state_name mean_density std_density\n",
       "1 Alabama    35.6216059   1.39741469 \n",
       "2 Alaska      0.4651015   0.03138939 \n",
       "3 Arizona    20.7442107   2.62269578 \n",
       "4 Arkansas   21.1169492   1.03561908 \n",
       "5 California 90.6060474   5.37440013 \n",
       "6 Colorado   18.2657330   1.94907799 "
      ]
     },
     "metadata": {},
     "output_type": "display_data"
    }
   ],
   "source": [
    "pop_density_summary = pop_density %>%\n",
    "    group_by(state_name) %>%\n",
    "    summarize(mean_density = mean(pop_density),\n",
    "              std_density = sd(pop_density))\n",
    "\n",
    "head(pop_density_summary)"
   ]
  },
  {
   "cell_type": "code",
   "execution_count": 9,
   "id": "9744768a-0747-4220-bcd4-8d3e18a80353",
   "metadata": {},
   "outputs": [
    {
     "data": {
      "image/png": "[encoded data removed]",
      "text/plain": [
       "plot without title"
      ]
     },
     "metadata": {
      "image/png": {
       "height": 420,
       "width": 420
      }
     },
     "output_type": "display_data"
    }
   ],
   "source": [
    "pop_density_plot = pop_density_summary %>%\n",
    "    ggplot(aes(x = mean_density, y = state_name)) +\n",
    "    geom_bar(stat=\"identity\") +\n",
    "    labs(y = \"State Name\", x = \"Population Density (Person per km squared)\", title =  \"State Population Density\") \n",
    "\n",
    "pop_density_plot"
   ]
  },
  {
   "cell_type": "code",
   "execution_count": null,
   "id": "0eaf7f95-8d41-47d8-9c65-b5fdc4d34988",
   "metadata": {},
   "outputs": [],
   "source": []
  },
  {
   "cell_type": "code",
   "execution_count": null,
   "id": "286a67a0-5448-49a5-8e0c-afdc5633b0d0",
   "metadata": {},
   "outputs": [],
   "source": []
  }
 ],
 "metadata": {
  "kernelspec": {
   "display_name": "R",
   "language": "R",
   "name": "ir"
  },
  "language_info": {
   "codemirror_mode": "r",
   "file_extension": ".r",
   "mimetype": "text/x-r-source",
   "name": "R",
   "pygments_lexer": "r",
   "version": "4.1.2"
  }
 },
 "nbformat": 4,
 "nbformat_minor": 5
}
