{
 "cells": [
  {
   "cell_type": "code",
   "execution_count": 78,
   "id": "a6ead79f-9723-4a49-98f4-54b1edef1dc5",
   "metadata": {},
   "outputs": [],
   "source": [
    "library(tidyverse)"
   ]
  },
  {
   "cell_type": "code",
   "execution_count": 79,
   "id": "46587fa5-39f9-4659-bcbc-0da48a8bc062",
   "metadata": {
    "tags": []
   },
   "outputs": [
    {
     "name": "stderr",
     "output_type": "stream",
     "text": [
      "Warning message:\n",
      "“One or more parsing issues, see `problems()` for details”\n",
      "\u001b[1mRows: \u001b[22m\u001b[34m4512\u001b[39m \u001b[1mColumns: \u001b[22m\u001b[34m28\u001b[39m\n",
      "\n",
      "\u001b[36m──\u001b[39m \u001b[1mColumn specification\u001b[22m \u001b[36m────────────────────────────────────────────────────────\u001b[39m\n",
      "\u001b[1mDelimiter:\u001b[22m \",\"\n",
      "\u001b[31mchr\u001b[39m (14): GeoName, Description, Unit, y2000, y2005, y2006, y2007, y2008, y20...\n",
      "\u001b[32mdbl\u001b[39m (14): y1997, y1998, y1999, y2001, y2002, y2003, y2004, y2010, y2012, y20...\n",
      "\n",
      "\n",
      "\u001b[36mℹ\u001b[39m Use `spec()` to retrieve the full column specification for this data.\n",
      "\u001b[36mℹ\u001b[39m Specify the column types or set `show_col_types = FALSE` to quiet this message.\n",
      "\n"
     ]
    },
    {
     "data": {
      "text/html": [
       "<table class=\"dataframe\">\n",
       "<caption>A tibble: 6 × 28</caption>\n",
       "<thead>\n",
       "\t<tr><th scope=col>GeoName</th><th scope=col>Description</th><th scope=col>Unit</th><th scope=col>y1997</th><th scope=col>y1998</th><th scope=col>y1999</th><th scope=col>y2000</th><th scope=col>y2001</th><th scope=col>y2002</th><th scope=col>y2003</th><th scope=col>⋯</th><th scope=col>y2012</th><th scope=col>y2013</th><th scope=col>y2014</th><th scope=col>y2015</th><th scope=col>y2016</th><th scope=col>y2017</th><th scope=col>y2018</th><th scope=col>y2019</th><th scope=col>y2020</th><th scope=col>y2021</th></tr>\n",
       "\t<tr><th scope=col>&lt;chr&gt;</th><th scope=col>&lt;chr&gt;</th><th scope=col>&lt;chr&gt;</th><th scope=col>&lt;dbl&gt;</th><th scope=col>&lt;dbl&gt;</th><th scope=col>&lt;dbl&gt;</th><th scope=col>&lt;chr&gt;</th><th scope=col>&lt;dbl&gt;</th><th scope=col>&lt;dbl&gt;</th><th scope=col>&lt;dbl&gt;</th><th scope=col>⋯</th><th scope=col>&lt;dbl&gt;</th><th scope=col>&lt;chr&gt;</th><th scope=col>&lt;dbl&gt;</th><th scope=col>&lt;dbl&gt;</th><th scope=col>&lt;dbl&gt;</th><th scope=col>&lt;chr&gt;</th><th scope=col>&lt;dbl&gt;</th><th scope=col>&lt;chr&gt;</th><th scope=col>&lt;dbl&gt;</th><th scope=col>&lt;chr&gt;</th></tr>\n",
       "</thead>\n",
       "<tbody>\n",
       "\t<tr><td>Alabama</td><td>All industry total</td><td>Millions of current dollars</td><td>104811.9</td><td>110212.0</td><td>115680.1</td><td>119851.7</td><td>122915.5</td><td>127505.0</td><td>134152.6</td><td>⋯</td><td>189245.5</td><td>194786.9</td><td>197406.9</td><td>202372.4</td><td>207368.4</td><td>215085.9</td><td>224046.9</td><td>231171.8</td><td>226896.5</td><td>247092.5</td></tr>\n",
       "\t<tr><td>Alabama</td><td>Manufacturing     </td><td>Millions of current dollars</td><td> 19602.7</td><td> 20567.0</td><td> 21461.7</td><td>21694.1 </td><td> 21189.7</td><td> 21250.8</td><td> 21744.9</td><td>⋯</td><td> 32058.7</td><td>33737   </td><td> 33352.5</td><td> 33529.3</td><td> 34464.3</td><td>36146.6 </td><td> 38064.9</td><td>37528.1 </td><td> 35733.7</td><td>40062.4 </td></tr>\n",
       "\t<tr><td>Alaska </td><td>All industry total</td><td>Millions of current dollars</td><td> 25810.8</td><td> 24227.5</td><td> 24744.3</td><td>26806.6 </td><td> 28494.1</td><td> 29756.8</td><td> 32037.9</td><td>⋯</td><td> 58283.6</td><td>57247.7 </td><td> 56484.9</td><td> 51490.9</td><td> 50727.7</td><td>53089.3 </td><td> 54711.7</td><td>54547.1 </td><td> 49820.0</td><td>54970.1 </td></tr>\n",
       "\t<tr><td>Alaska </td><td>Manufacturing     </td><td>Millions of current dollars</td><td>   870.0</td><td>  1118.9</td><td>   884.3</td><td>829.9   </td><td>   948.1</td><td>   919.2</td><td>  1101.9</td><td>⋯</td><td>   992.0</td><td>1325    </td><td>  1597.4</td><td>  1833.6</td><td>  1570.4</td><td>1821.9  </td><td>  1420.2</td><td>1488.9  </td><td>  1338.8</td><td>(D)     </td></tr>\n",
       "\t<tr><td>Arizona</td><td>All industry total</td><td>Millions of current dollars</td><td>132281.0</td><td>143302.6</td><td>155755.8</td><td>165110.7</td><td>171909.6</td><td>180522.3</td><td>193634.9</td><td>⋯</td><td>271440.0</td><td>278591.6</td><td>287666.6</td><td>299393.3</td><td>313081.4</td><td>330416.1</td><td>349907.5</td><td>369988.2</td><td>373719.0</td><td>411191.8</td></tr>\n",
       "\t<tr><td>Arizona</td><td>Private industries</td><td>Millions of current dollars</td><td>114429.6</td><td>124318.1</td><td>135756.6</td><td>144042.8</td><td>149169.9</td><td>156331.4</td><td>167732.7</td><td>⋯</td><td>233709.9</td><td>240043.3</td><td>249015.1</td><td>259826.4</td><td>272463.6</td><td>288024.8</td><td>306447.4</td><td>325361.5</td><td>327118.2</td><td>363866.2</td></tr>\n",
       "</tbody>\n",
       "</table>\n"
      ],
      "text/latex": [
       "A tibble: 6 × 28\n",
       "\\begin{tabular}{lllllllllllllllllllll}\n",
       " GeoName & Description & Unit & y1997 & y1998 & y1999 & y2000 & y2001 & y2002 & y2003 & ⋯ & y2012 & y2013 & y2014 & y2015 & y2016 & y2017 & y2018 & y2019 & y2020 & y2021\\\\\n",
       " <chr> & <chr> & <chr> & <dbl> & <dbl> & <dbl> & <chr> & <dbl> & <dbl> & <dbl> & ⋯ & <dbl> & <chr> & <dbl> & <dbl> & <dbl> & <chr> & <dbl> & <chr> & <dbl> & <chr>\\\\\n",
       "\\hline\n",
       "\t Alabama & All industry total & Millions of current dollars & 104811.9 & 110212.0 & 115680.1 & 119851.7 & 122915.5 & 127505.0 & 134152.6 & ⋯ & 189245.5 & 194786.9 & 197406.9 & 202372.4 & 207368.4 & 215085.9 & 224046.9 & 231171.8 & 226896.5 & 247092.5\\\\\n",
       "\t Alabama & Manufacturing      & Millions of current dollars &  19602.7 &  20567.0 &  21461.7 & 21694.1  &  21189.7 &  21250.8 &  21744.9 & ⋯ &  32058.7 & 33737    &  33352.5 &  33529.3 &  34464.3 & 36146.6  &  38064.9 & 37528.1  &  35733.7 & 40062.4 \\\\\n",
       "\t Alaska  & All industry total & Millions of current dollars &  25810.8 &  24227.5 &  24744.3 & 26806.6  &  28494.1 &  29756.8 &  32037.9 & ⋯ &  58283.6 & 57247.7  &  56484.9 &  51490.9 &  50727.7 & 53089.3  &  54711.7 & 54547.1  &  49820.0 & 54970.1 \\\\\n",
       "\t Alaska  & Manufacturing      & Millions of current dollars &    870.0 &   1118.9 &    884.3 & 829.9    &    948.1 &    919.2 &   1101.9 & ⋯ &    992.0 & 1325     &   1597.4 &   1833.6 &   1570.4 & 1821.9   &   1420.2 & 1488.9   &   1338.8 & (D)     \\\\\n",
       "\t Arizona & All industry total & Millions of current dollars & 132281.0 & 143302.6 & 155755.8 & 165110.7 & 171909.6 & 180522.3 & 193634.9 & ⋯ & 271440.0 & 278591.6 & 287666.6 & 299393.3 & 313081.4 & 330416.1 & 349907.5 & 369988.2 & 373719.0 & 411191.8\\\\\n",
       "\t Arizona & Private industries & Millions of current dollars & 114429.6 & 124318.1 & 135756.6 & 144042.8 & 149169.9 & 156331.4 & 167732.7 & ⋯ & 233709.9 & 240043.3 & 249015.1 & 259826.4 & 272463.6 & 288024.8 & 306447.4 & 325361.5 & 327118.2 & 363866.2\\\\\n",
       "\\end{tabular}\n"
      ],
      "text/markdown": [
       "\n",
       "A tibble: 6 × 28\n",
       "\n",
       "| GeoName &lt;chr&gt; | Description &lt;chr&gt; | Unit &lt;chr&gt; | y1997 &lt;dbl&gt; | y1998 &lt;dbl&gt; | y1999 &lt;dbl&gt; | y2000 &lt;chr&gt; | y2001 &lt;dbl&gt; | y2002 &lt;dbl&gt; | y2003 &lt;dbl&gt; | ⋯ ⋯ | y2012 &lt;dbl&gt; | y2013 &lt;chr&gt; | y2014 &lt;dbl&gt; | y2015 &lt;dbl&gt; | y2016 &lt;dbl&gt; | y2017 &lt;chr&gt; | y2018 &lt;dbl&gt; | y2019 &lt;chr&gt; | y2020 &lt;dbl&gt; | y2021 &lt;chr&gt; |\n",
       "|---|---|---|---|---|---|---|---|---|---|---|---|---|---|---|---|---|---|---|---|---|\n",
       "| Alabama | All industry total | Millions of current dollars | 104811.9 | 110212.0 | 115680.1 | 119851.7 | 122915.5 | 127505.0 | 134152.6 | ⋯ | 189245.5 | 194786.9 | 197406.9 | 202372.4 | 207368.4 | 215085.9 | 224046.9 | 231171.8 | 226896.5 | 247092.5 |\n",
       "| Alabama | Manufacturing      | Millions of current dollars |  19602.7 |  20567.0 |  21461.7 | 21694.1  |  21189.7 |  21250.8 |  21744.9 | ⋯ |  32058.7 | 33737    |  33352.5 |  33529.3 |  34464.3 | 36146.6  |  38064.9 | 37528.1  |  35733.7 | 40062.4  |\n",
       "| Alaska  | All industry total | Millions of current dollars |  25810.8 |  24227.5 |  24744.3 | 26806.6  |  28494.1 |  29756.8 |  32037.9 | ⋯ |  58283.6 | 57247.7  |  56484.9 |  51490.9 |  50727.7 | 53089.3  |  54711.7 | 54547.1  |  49820.0 | 54970.1  |\n",
       "| Alaska  | Manufacturing      | Millions of current dollars |    870.0 |   1118.9 |    884.3 | 829.9    |    948.1 |    919.2 |   1101.9 | ⋯ |    992.0 | 1325     |   1597.4 |   1833.6 |   1570.4 | 1821.9   |   1420.2 | 1488.9   |   1338.8 | (D)      |\n",
       "| Arizona | All industry total | Millions of current dollars | 132281.0 | 143302.6 | 155755.8 | 165110.7 | 171909.6 | 180522.3 | 193634.9 | ⋯ | 271440.0 | 278591.6 | 287666.6 | 299393.3 | 313081.4 | 330416.1 | 349907.5 | 369988.2 | 373719.0 | 411191.8 |\n",
       "| Arizona | Private industries | Millions of current dollars | 114429.6 | 124318.1 | 135756.6 | 144042.8 | 149169.9 | 156331.4 | 167732.7 | ⋯ | 233709.9 | 240043.3 | 249015.1 | 259826.4 | 272463.6 | 288024.8 | 306447.4 | 325361.5 | 327118.2 | 363866.2 |\n",
       "\n"
      ],
      "text/plain": [
       "  GeoName Description        Unit                        y1997    y1998   \n",
       "1 Alabama All industry total Millions of current dollars 104811.9 110212.0\n",
       "2 Alabama Manufacturing      Millions of current dollars  19602.7  20567.0\n",
       "3 Alaska  All industry total Millions of current dollars  25810.8  24227.5\n",
       "4 Alaska  Manufacturing      Millions of current dollars    870.0   1118.9\n",
       "5 Arizona All industry total Millions of current dollars 132281.0 143302.6\n",
       "6 Arizona Private industries Millions of current dollars 114429.6 124318.1\n",
       "  y1999    y2000    y2001    y2002    y2003    ⋯ y2012    y2013    y2014   \n",
       "1 115680.1 119851.7 122915.5 127505.0 134152.6 ⋯ 189245.5 194786.9 197406.9\n",
       "2  21461.7 21694.1   21189.7  21250.8  21744.9 ⋯  32058.7 33737     33352.5\n",
       "3  24744.3 26806.6   28494.1  29756.8  32037.9 ⋯  58283.6 57247.7   56484.9\n",
       "4    884.3 829.9       948.1    919.2   1101.9 ⋯    992.0 1325       1597.4\n",
       "5 155755.8 165110.7 171909.6 180522.3 193634.9 ⋯ 271440.0 278591.6 287666.6\n",
       "6 135756.6 144042.8 149169.9 156331.4 167732.7 ⋯ 233709.9 240043.3 249015.1\n",
       "  y2015    y2016    y2017    y2018    y2019    y2020    y2021   \n",
       "1 202372.4 207368.4 215085.9 224046.9 231171.8 226896.5 247092.5\n",
       "2  33529.3  34464.3 36146.6   38064.9 37528.1   35733.7 40062.4 \n",
       "3  51490.9  50727.7 53089.3   54711.7 54547.1   49820.0 54970.1 \n",
       "4   1833.6   1570.4 1821.9     1420.2 1488.9     1338.8 (D)     \n",
       "5 299393.3 313081.4 330416.1 349907.5 369988.2 373719.0 411191.8\n",
       "6 259826.4 272463.6 288024.8 306447.4 325361.5 327118.2 363866.2"
      ]
     },
     "metadata": {},
     "output_type": "display_data"
    }
   ],
   "source": [
    "#Reading file\n",
    "states_data = read_csv(\"excel_data/SAGDP2N__ALL_AREAS_1997_2021.csv\")\n",
    "\n",
    "head(states_data)"
   ]
  },
  {
   "cell_type": "code",
   "execution_count": 86,
   "id": "b13503c1-148b-4515-b5c6-af5f43a0290c",
   "metadata": {},
   "outputs": [
    {
     "data": {
      "text/html": [
       "<table class=\"dataframe\">\n",
       "<caption>A tibble: 6 × 28</caption>\n",
       "<thead>\n",
       "\t<tr><th scope=col>state_name</th><th scope=col>description</th><th scope=col>unit</th><th scope=col>y1997</th><th scope=col>y1998</th><th scope=col>y1999</th><th scope=col>y2000</th><th scope=col>y2001</th><th scope=col>y2002</th><th scope=col>y2003</th><th scope=col>⋯</th><th scope=col>y2012</th><th scope=col>y2013</th><th scope=col>y2014</th><th scope=col>y2015</th><th scope=col>y2016</th><th scope=col>y2017</th><th scope=col>y2018</th><th scope=col>y2019</th><th scope=col>y2020</th><th scope=col>y2021</th></tr>\n",
       "\t<tr><th scope=col>&lt;chr&gt;</th><th scope=col>&lt;chr&gt;</th><th scope=col>&lt;chr&gt;</th><th scope=col>&lt;dbl&gt;</th><th scope=col>&lt;dbl&gt;</th><th scope=col>&lt;dbl&gt;</th><th scope=col>&lt;dbl&gt;</th><th scope=col>&lt;dbl&gt;</th><th scope=col>&lt;dbl&gt;</th><th scope=col>&lt;dbl&gt;</th><th scope=col>⋯</th><th scope=col>&lt;dbl&gt;</th><th scope=col>&lt;dbl&gt;</th><th scope=col>&lt;dbl&gt;</th><th scope=col>&lt;dbl&gt;</th><th scope=col>&lt;dbl&gt;</th><th scope=col>&lt;dbl&gt;</th><th scope=col>&lt;dbl&gt;</th><th scope=col>&lt;dbl&gt;</th><th scope=col>&lt;dbl&gt;</th><th scope=col>&lt;dbl&gt;</th></tr>\n",
       "</thead>\n",
       "<tbody>\n",
       "\t<tr><td>Alabama</td><td>All industry total</td><td>Millions of current dollars</td><td>104811.9</td><td>110212.0</td><td>115680.1</td><td>119851.7</td><td>122915.5</td><td>127505.0</td><td>134152.6</td><td>⋯</td><td>189245.5</td><td>194786.9</td><td>197406.9</td><td>202372.4</td><td>207368.4</td><td>215085.9</td><td>224046.9</td><td>231171.8</td><td>226896.5</td><td>247092.5</td></tr>\n",
       "\t<tr><td>Alabama</td><td>Manufacturing     </td><td>Millions of current dollars</td><td> 19602.7</td><td> 20567.0</td><td> 21461.7</td><td> 21694.1</td><td> 21189.7</td><td> 21250.8</td><td> 21744.9</td><td>⋯</td><td> 32058.7</td><td> 33737.0</td><td> 33352.5</td><td> 33529.3</td><td> 34464.3</td><td> 36146.6</td><td> 38064.9</td><td> 37528.1</td><td> 35733.7</td><td> 40062.4</td></tr>\n",
       "\t<tr><td>Alaska </td><td>All industry total</td><td>Millions of current dollars</td><td> 25810.8</td><td> 24227.5</td><td> 24744.3</td><td> 26806.6</td><td> 28494.1</td><td> 29756.8</td><td> 32037.9</td><td>⋯</td><td> 58283.6</td><td> 57247.7</td><td> 56484.9</td><td> 51490.9</td><td> 50727.7</td><td> 53089.3</td><td> 54711.7</td><td> 54547.1</td><td> 49820.0</td><td> 54970.1</td></tr>\n",
       "\t<tr><td>Alaska </td><td>Manufacturing     </td><td>Millions of current dollars</td><td>   870.0</td><td>  1118.9</td><td>   884.3</td><td>   829.9</td><td>   948.1</td><td>   919.2</td><td>  1101.9</td><td>⋯</td><td>   992.0</td><td>  1325.0</td><td>  1597.4</td><td>  1833.6</td><td>  1570.4</td><td>  1821.9</td><td>  1420.2</td><td>  1488.9</td><td>  1338.8</td><td>      NA</td></tr>\n",
       "\t<tr><td>Arizona</td><td>All industry total</td><td>Millions of current dollars</td><td>132281.0</td><td>143302.6</td><td>155755.8</td><td>165110.7</td><td>171909.6</td><td>180522.3</td><td>193634.9</td><td>⋯</td><td>271440.0</td><td>278591.6</td><td>287666.6</td><td>299393.3</td><td>313081.4</td><td>330416.1</td><td>349907.5</td><td>369988.2</td><td>373719.0</td><td>411191.8</td></tr>\n",
       "\t<tr><td>Arizona</td><td>Private industries</td><td>Millions of current dollars</td><td>114429.6</td><td>124318.1</td><td>135756.6</td><td>144042.8</td><td>149169.9</td><td>156331.4</td><td>167732.7</td><td>⋯</td><td>233709.9</td><td>240043.3</td><td>249015.1</td><td>259826.4</td><td>272463.6</td><td>288024.8</td><td>306447.4</td><td>325361.5</td><td>327118.2</td><td>363866.2</td></tr>\n",
       "</tbody>\n",
       "</table>\n"
      ],
      "text/latex": [
       "A tibble: 6 × 28\n",
       "\\begin{tabular}{lllllllllllllllllllll}\n",
       " state\\_name & description & unit & y1997 & y1998 & y1999 & y2000 & y2001 & y2002 & y2003 & ⋯ & y2012 & y2013 & y2014 & y2015 & y2016 & y2017 & y2018 & y2019 & y2020 & y2021\\\\\n",
       " <chr> & <chr> & <chr> & <dbl> & <dbl> & <dbl> & <dbl> & <dbl> & <dbl> & <dbl> & ⋯ & <dbl> & <dbl> & <dbl> & <dbl> & <dbl> & <dbl> & <dbl> & <dbl> & <dbl> & <dbl>\\\\\n",
       "\\hline\n",
       "\t Alabama & All industry total & Millions of current dollars & 104811.9 & 110212.0 & 115680.1 & 119851.7 & 122915.5 & 127505.0 & 134152.6 & ⋯ & 189245.5 & 194786.9 & 197406.9 & 202372.4 & 207368.4 & 215085.9 & 224046.9 & 231171.8 & 226896.5 & 247092.5\\\\\n",
       "\t Alabama & Manufacturing      & Millions of current dollars &  19602.7 &  20567.0 &  21461.7 &  21694.1 &  21189.7 &  21250.8 &  21744.9 & ⋯ &  32058.7 &  33737.0 &  33352.5 &  33529.3 &  34464.3 &  36146.6 &  38064.9 &  37528.1 &  35733.7 &  40062.4\\\\\n",
       "\t Alaska  & All industry total & Millions of current dollars &  25810.8 &  24227.5 &  24744.3 &  26806.6 &  28494.1 &  29756.8 &  32037.9 & ⋯ &  58283.6 &  57247.7 &  56484.9 &  51490.9 &  50727.7 &  53089.3 &  54711.7 &  54547.1 &  49820.0 &  54970.1\\\\\n",
       "\t Alaska  & Manufacturing      & Millions of current dollars &    870.0 &   1118.9 &    884.3 &    829.9 &    948.1 &    919.2 &   1101.9 & ⋯ &    992.0 &   1325.0 &   1597.4 &   1833.6 &   1570.4 &   1821.9 &   1420.2 &   1488.9 &   1338.8 &       NA\\\\\n",
       "\t Arizona & All industry total & Millions of current dollars & 132281.0 & 143302.6 & 155755.8 & 165110.7 & 171909.6 & 180522.3 & 193634.9 & ⋯ & 271440.0 & 278591.6 & 287666.6 & 299393.3 & 313081.4 & 330416.1 & 349907.5 & 369988.2 & 373719.0 & 411191.8\\\\\n",
       "\t Arizona & Private industries & Millions of current dollars & 114429.6 & 124318.1 & 135756.6 & 144042.8 & 149169.9 & 156331.4 & 167732.7 & ⋯ & 233709.9 & 240043.3 & 249015.1 & 259826.4 & 272463.6 & 288024.8 & 306447.4 & 325361.5 & 327118.2 & 363866.2\\\\\n",
       "\\end{tabular}\n"
      ],
      "text/markdown": [
       "\n",
       "A tibble: 6 × 28\n",
       "\n",
       "| state_name &lt;chr&gt; | description &lt;chr&gt; | unit &lt;chr&gt; | y1997 &lt;dbl&gt; | y1998 &lt;dbl&gt; | y1999 &lt;dbl&gt; | y2000 &lt;dbl&gt; | y2001 &lt;dbl&gt; | y2002 &lt;dbl&gt; | y2003 &lt;dbl&gt; | ⋯ ⋯ | y2012 &lt;dbl&gt; | y2013 &lt;dbl&gt; | y2014 &lt;dbl&gt; | y2015 &lt;dbl&gt; | y2016 &lt;dbl&gt; | y2017 &lt;dbl&gt; | y2018 &lt;dbl&gt; | y2019 &lt;dbl&gt; | y2020 &lt;dbl&gt; | y2021 &lt;dbl&gt; |\n",
       "|---|---|---|---|---|---|---|---|---|---|---|---|---|---|---|---|---|---|---|---|---|\n",
       "| Alabama | All industry total | Millions of current dollars | 104811.9 | 110212.0 | 115680.1 | 119851.7 | 122915.5 | 127505.0 | 134152.6 | ⋯ | 189245.5 | 194786.9 | 197406.9 | 202372.4 | 207368.4 | 215085.9 | 224046.9 | 231171.8 | 226896.5 | 247092.5 |\n",
       "| Alabama | Manufacturing      | Millions of current dollars |  19602.7 |  20567.0 |  21461.7 |  21694.1 |  21189.7 |  21250.8 |  21744.9 | ⋯ |  32058.7 |  33737.0 |  33352.5 |  33529.3 |  34464.3 |  36146.6 |  38064.9 |  37528.1 |  35733.7 |  40062.4 |\n",
       "| Alaska  | All industry total | Millions of current dollars |  25810.8 |  24227.5 |  24744.3 |  26806.6 |  28494.1 |  29756.8 |  32037.9 | ⋯ |  58283.6 |  57247.7 |  56484.9 |  51490.9 |  50727.7 |  53089.3 |  54711.7 |  54547.1 |  49820.0 |  54970.1 |\n",
       "| Alaska  | Manufacturing      | Millions of current dollars |    870.0 |   1118.9 |    884.3 |    829.9 |    948.1 |    919.2 |   1101.9 | ⋯ |    992.0 |   1325.0 |   1597.4 |   1833.6 |   1570.4 |   1821.9 |   1420.2 |   1488.9 |   1338.8 |       NA |\n",
       "| Arizona | All industry total | Millions of current dollars | 132281.0 | 143302.6 | 155755.8 | 165110.7 | 171909.6 | 180522.3 | 193634.9 | ⋯ | 271440.0 | 278591.6 | 287666.6 | 299393.3 | 313081.4 | 330416.1 | 349907.5 | 369988.2 | 373719.0 | 411191.8 |\n",
       "| Arizona | Private industries | Millions of current dollars | 114429.6 | 124318.1 | 135756.6 | 144042.8 | 149169.9 | 156331.4 | 167732.7 | ⋯ | 233709.9 | 240043.3 | 249015.1 | 259826.4 | 272463.6 | 288024.8 | 306447.4 | 325361.5 | 327118.2 | 363866.2 |\n",
       "\n"
      ],
      "text/plain": [
       "  state_name description        unit                        y1997    y1998   \n",
       "1 Alabama    All industry total Millions of current dollars 104811.9 110212.0\n",
       "2 Alabama    Manufacturing      Millions of current dollars  19602.7  20567.0\n",
       "3 Alaska     All industry total Millions of current dollars  25810.8  24227.5\n",
       "4 Alaska     Manufacturing      Millions of current dollars    870.0   1118.9\n",
       "5 Arizona    All industry total Millions of current dollars 132281.0 143302.6\n",
       "6 Arizona    Private industries Millions of current dollars 114429.6 124318.1\n",
       "  y1999    y2000    y2001    y2002    y2003    ⋯ y2012    y2013    y2014   \n",
       "1 115680.1 119851.7 122915.5 127505.0 134152.6 ⋯ 189245.5 194786.9 197406.9\n",
       "2  21461.7  21694.1  21189.7  21250.8  21744.9 ⋯  32058.7  33737.0  33352.5\n",
       "3  24744.3  26806.6  28494.1  29756.8  32037.9 ⋯  58283.6  57247.7  56484.9\n",
       "4    884.3    829.9    948.1    919.2   1101.9 ⋯    992.0   1325.0   1597.4\n",
       "5 155755.8 165110.7 171909.6 180522.3 193634.9 ⋯ 271440.0 278591.6 287666.6\n",
       "6 135756.6 144042.8 149169.9 156331.4 167732.7 ⋯ 233709.9 240043.3 249015.1\n",
       "  y2015    y2016    y2017    y2018    y2019    y2020    y2021   \n",
       "1 202372.4 207368.4 215085.9 224046.9 231171.8 226896.5 247092.5\n",
       "2  33529.3  34464.3  36146.6  38064.9  37528.1  35733.7  40062.4\n",
       "3  51490.9  50727.7  53089.3  54711.7  54547.1  49820.0  54970.1\n",
       "4   1833.6   1570.4   1821.9   1420.2   1488.9   1338.8       NA\n",
       "5 299393.3 313081.4 330416.1 349907.5 369988.2 373719.0 411191.8\n",
       "6 259826.4 272463.6 288024.8 306447.4 325361.5 327118.2 363866.2"
      ]
     },
     "metadata": {},
     "output_type": "display_data"
    }
   ],
   "source": [
    "##Rename the columns\n",
    "colnames(states_data) = c(\"state_name\", \"description\", \"unit\", \"y1997\", \"y1998\", \"y1999\", \"y2000\", \"y2001\", \"y2002\", \"y2003\", \"y2004\", \"y2005\", \"y2006\", \"y2007\", \"y2008\", \"y2009\", \"y2010\", \"y2011\", \"y2012\", \"y2013\", \"y2014\", \"y2015\", \"y2016\", \"y2017\", \"y2018\", \"y2019\", \"y2020\", \"y2021\")\n",
    "\n",
    "#Some data columns were classified as characters causing issues\n",
    "#Fixing all columns to be double\n",
    "\n",
    "states_data$y2000 = as.double(states_data$y2000)\n",
    "states_data$y2005 = as.double(states_data$y2005)\n",
    "states_data$y2006 = as.double(states_data$y2006)\n",
    "states_data$y2007 = as.double(states_data$y2007)\n",
    "states_data$y2008 = as.double(states_data$y2008)\n",
    "states_data$y2009 = as.double(states_data$y2009)\n",
    "states_data$y2011 = as.double(states_data$y2011)\n",
    "states_data$y2013 = as.double(states_data$y2013)\n",
    "states_data$y2017 = as.double(states_data$y2017)\n",
    "states_data$y2019 = as.double(states_data$y2019)\n",
    "states_data$y2021 = as.double(states_data$y2021)\n",
    "\n",
    "head(states_data)"
   ]
  },
  {
   "cell_type": "code",
   "execution_count": 90,
   "id": "70b67ff2-a59a-48ee-8e80-b625ae85aa44",
   "metadata": {
    "tags": []
   },
   "outputs": [
    {
     "data": {
      "text/html": [
       "<table class=\"dataframe\">\n",
       "<caption>A tibble: 6 × 28</caption>\n",
       "<thead>\n",
       "\t<tr><th scope=col>state_name</th><th scope=col>description</th><th scope=col>unit</th><th scope=col>y1997</th><th scope=col>y1998</th><th scope=col>y1999</th><th scope=col>y2000</th><th scope=col>y2001</th><th scope=col>y2002</th><th scope=col>y2003</th><th scope=col>⋯</th><th scope=col>y2012</th><th scope=col>y2013</th><th scope=col>y2014</th><th scope=col>y2015</th><th scope=col>y2016</th><th scope=col>y2017</th><th scope=col>y2018</th><th scope=col>y2019</th><th scope=col>y2020</th><th scope=col>y2021</th></tr>\n",
       "\t<tr><th scope=col>&lt;chr&gt;</th><th scope=col>&lt;chr&gt;</th><th scope=col>&lt;chr&gt;</th><th scope=col>&lt;dbl&gt;</th><th scope=col>&lt;dbl&gt;</th><th scope=col>&lt;dbl&gt;</th><th scope=col>&lt;dbl&gt;</th><th scope=col>&lt;dbl&gt;</th><th scope=col>&lt;dbl&gt;</th><th scope=col>&lt;dbl&gt;</th><th scope=col>⋯</th><th scope=col>&lt;dbl&gt;</th><th scope=col>&lt;dbl&gt;</th><th scope=col>&lt;dbl&gt;</th><th scope=col>&lt;dbl&gt;</th><th scope=col>&lt;dbl&gt;</th><th scope=col>&lt;dbl&gt;</th><th scope=col>&lt;dbl&gt;</th><th scope=col>&lt;dbl&gt;</th><th scope=col>&lt;dbl&gt;</th><th scope=col>&lt;dbl&gt;</th></tr>\n",
       "</thead>\n",
       "<tbody>\n",
       "\t<tr><td>Alabama</td><td>All industry total</td><td>Millions of current dollars</td><td>104811.9</td><td>110212.0</td><td>115680.1</td><td>119851.7</td><td>122915.5</td><td>127505.0</td><td>134152.6</td><td>⋯</td><td>189245.5</td><td>194786.9</td><td>197406.9</td><td>202372.4</td><td>207368.4</td><td>215085.9</td><td>224046.9</td><td>231171.8</td><td>226896.5</td><td>247092.5</td></tr>\n",
       "\t<tr><td>Alabama</td><td>Manufacturing     </td><td>Millions of current dollars</td><td> 19602.7</td><td> 20567.0</td><td> 21461.7</td><td> 21694.1</td><td> 21189.7</td><td> 21250.8</td><td> 21744.9</td><td>⋯</td><td> 32058.7</td><td> 33737.0</td><td> 33352.5</td><td> 33529.3</td><td> 34464.3</td><td> 36146.6</td><td> 38064.9</td><td> 37528.1</td><td> 35733.7</td><td> 40062.4</td></tr>\n",
       "\t<tr><td>Alaska </td><td>All industry total</td><td>Millions of current dollars</td><td> 25810.8</td><td> 24227.5</td><td> 24744.3</td><td> 26806.6</td><td> 28494.1</td><td> 29756.8</td><td> 32037.9</td><td>⋯</td><td> 58283.6</td><td> 57247.7</td><td> 56484.9</td><td> 51490.9</td><td> 50727.7</td><td> 53089.3</td><td> 54711.7</td><td> 54547.1</td><td> 49820.0</td><td> 54970.1</td></tr>\n",
       "\t<tr><td>Alaska </td><td>Manufacturing     </td><td>Millions of current dollars</td><td>   870.0</td><td>  1118.9</td><td>   884.3</td><td>   829.9</td><td>   948.1</td><td>   919.2</td><td>  1101.9</td><td>⋯</td><td>   992.0</td><td>  1325.0</td><td>  1597.4</td><td>  1833.6</td><td>  1570.4</td><td>  1821.9</td><td>  1420.2</td><td>  1488.9</td><td>  1338.8</td><td>      NA</td></tr>\n",
       "\t<tr><td>Arizona</td><td>All industry total</td><td>Millions of current dollars</td><td>132281.0</td><td>143302.6</td><td>155755.8</td><td>165110.7</td><td>171909.6</td><td>180522.3</td><td>193634.9</td><td>⋯</td><td>271440.0</td><td>278591.6</td><td>287666.6</td><td>299393.3</td><td>313081.4</td><td>330416.1</td><td>349907.5</td><td>369988.2</td><td>373719.0</td><td>411191.8</td></tr>\n",
       "\t<tr><td>Arizona</td><td>Manufacturing     </td><td>Millions of current dollars</td><td> 21453.7</td><td> 22215.9</td><td> 23932.4</td><td> 22983.3</td><td> 22227.9</td><td> 22335.1</td><td> 25649.5</td><td>⋯</td><td> 24505.2</td><td> 22226.4</td><td> 24070.0</td><td> 25819.2</td><td> 26489.1</td><td> 28652.4</td><td> 31427.6</td><td> 33304.5</td><td> 32067.7</td><td> 34995.1</td></tr>\n",
       "</tbody>\n",
       "</table>\n"
      ],
      "text/latex": [
       "A tibble: 6 × 28\n",
       "\\begin{tabular}{lllllllllllllllllllll}\n",
       " state\\_name & description & unit & y1997 & y1998 & y1999 & y2000 & y2001 & y2002 & y2003 & ⋯ & y2012 & y2013 & y2014 & y2015 & y2016 & y2017 & y2018 & y2019 & y2020 & y2021\\\\\n",
       " <chr> & <chr> & <chr> & <dbl> & <dbl> & <dbl> & <dbl> & <dbl> & <dbl> & <dbl> & ⋯ & <dbl> & <dbl> & <dbl> & <dbl> & <dbl> & <dbl> & <dbl> & <dbl> & <dbl> & <dbl>\\\\\n",
       "\\hline\n",
       "\t Alabama & All industry total & Millions of current dollars & 104811.9 & 110212.0 & 115680.1 & 119851.7 & 122915.5 & 127505.0 & 134152.6 & ⋯ & 189245.5 & 194786.9 & 197406.9 & 202372.4 & 207368.4 & 215085.9 & 224046.9 & 231171.8 & 226896.5 & 247092.5\\\\\n",
       "\t Alabama & Manufacturing      & Millions of current dollars &  19602.7 &  20567.0 &  21461.7 &  21694.1 &  21189.7 &  21250.8 &  21744.9 & ⋯ &  32058.7 &  33737.0 &  33352.5 &  33529.3 &  34464.3 &  36146.6 &  38064.9 &  37528.1 &  35733.7 &  40062.4\\\\\n",
       "\t Alaska  & All industry total & Millions of current dollars &  25810.8 &  24227.5 &  24744.3 &  26806.6 &  28494.1 &  29756.8 &  32037.9 & ⋯ &  58283.6 &  57247.7 &  56484.9 &  51490.9 &  50727.7 &  53089.3 &  54711.7 &  54547.1 &  49820.0 &  54970.1\\\\\n",
       "\t Alaska  & Manufacturing      & Millions of current dollars &    870.0 &   1118.9 &    884.3 &    829.9 &    948.1 &    919.2 &   1101.9 & ⋯ &    992.0 &   1325.0 &   1597.4 &   1833.6 &   1570.4 &   1821.9 &   1420.2 &   1488.9 &   1338.8 &       NA\\\\\n",
       "\t Arizona & All industry total & Millions of current dollars & 132281.0 & 143302.6 & 155755.8 & 165110.7 & 171909.6 & 180522.3 & 193634.9 & ⋯ & 271440.0 & 278591.6 & 287666.6 & 299393.3 & 313081.4 & 330416.1 & 349907.5 & 369988.2 & 373719.0 & 411191.8\\\\\n",
       "\t Arizona & Manufacturing      & Millions of current dollars &  21453.7 &  22215.9 &  23932.4 &  22983.3 &  22227.9 &  22335.1 &  25649.5 & ⋯ &  24505.2 &  22226.4 &  24070.0 &  25819.2 &  26489.1 &  28652.4 &  31427.6 &  33304.5 &  32067.7 &  34995.1\\\\\n",
       "\\end{tabular}\n"
      ],
      "text/markdown": [
       "\n",
       "A tibble: 6 × 28\n",
       "\n",
       "| state_name &lt;chr&gt; | description &lt;chr&gt; | unit &lt;chr&gt; | y1997 &lt;dbl&gt; | y1998 &lt;dbl&gt; | y1999 &lt;dbl&gt; | y2000 &lt;dbl&gt; | y2001 &lt;dbl&gt; | y2002 &lt;dbl&gt; | y2003 &lt;dbl&gt; | ⋯ ⋯ | y2012 &lt;dbl&gt; | y2013 &lt;dbl&gt; | y2014 &lt;dbl&gt; | y2015 &lt;dbl&gt; | y2016 &lt;dbl&gt; | y2017 &lt;dbl&gt; | y2018 &lt;dbl&gt; | y2019 &lt;dbl&gt; | y2020 &lt;dbl&gt; | y2021 &lt;dbl&gt; |\n",
       "|---|---|---|---|---|---|---|---|---|---|---|---|---|---|---|---|---|---|---|---|---|\n",
       "| Alabama | All industry total | Millions of current dollars | 104811.9 | 110212.0 | 115680.1 | 119851.7 | 122915.5 | 127505.0 | 134152.6 | ⋯ | 189245.5 | 194786.9 | 197406.9 | 202372.4 | 207368.4 | 215085.9 | 224046.9 | 231171.8 | 226896.5 | 247092.5 |\n",
       "| Alabama | Manufacturing      | Millions of current dollars |  19602.7 |  20567.0 |  21461.7 |  21694.1 |  21189.7 |  21250.8 |  21744.9 | ⋯ |  32058.7 |  33737.0 |  33352.5 |  33529.3 |  34464.3 |  36146.6 |  38064.9 |  37528.1 |  35733.7 |  40062.4 |\n",
       "| Alaska  | All industry total | Millions of current dollars |  25810.8 |  24227.5 |  24744.3 |  26806.6 |  28494.1 |  29756.8 |  32037.9 | ⋯ |  58283.6 |  57247.7 |  56484.9 |  51490.9 |  50727.7 |  53089.3 |  54711.7 |  54547.1 |  49820.0 |  54970.1 |\n",
       "| Alaska  | Manufacturing      | Millions of current dollars |    870.0 |   1118.9 |    884.3 |    829.9 |    948.1 |    919.2 |   1101.9 | ⋯ |    992.0 |   1325.0 |   1597.4 |   1833.6 |   1570.4 |   1821.9 |   1420.2 |   1488.9 |   1338.8 |       NA |\n",
       "| Arizona | All industry total | Millions of current dollars | 132281.0 | 143302.6 | 155755.8 | 165110.7 | 171909.6 | 180522.3 | 193634.9 | ⋯ | 271440.0 | 278591.6 | 287666.6 | 299393.3 | 313081.4 | 330416.1 | 349907.5 | 369988.2 | 373719.0 | 411191.8 |\n",
       "| Arizona | Manufacturing      | Millions of current dollars |  21453.7 |  22215.9 |  23932.4 |  22983.3 |  22227.9 |  22335.1 |  25649.5 | ⋯ |  24505.2 |  22226.4 |  24070.0 |  25819.2 |  26489.1 |  28652.4 |  31427.6 |  33304.5 |  32067.7 |  34995.1 |\n",
       "\n"
      ],
      "text/plain": [
       "  state_name description        unit                        y1997    y1998   \n",
       "1 Alabama    All industry total Millions of current dollars 104811.9 110212.0\n",
       "2 Alabama    Manufacturing      Millions of current dollars  19602.7  20567.0\n",
       "3 Alaska     All industry total Millions of current dollars  25810.8  24227.5\n",
       "4 Alaska     Manufacturing      Millions of current dollars    870.0   1118.9\n",
       "5 Arizona    All industry total Millions of current dollars 132281.0 143302.6\n",
       "6 Arizona    Manufacturing      Millions of current dollars  21453.7  22215.9\n",
       "  y1999    y2000    y2001    y2002    y2003    ⋯ y2012    y2013    y2014   \n",
       "1 115680.1 119851.7 122915.5 127505.0 134152.6 ⋯ 189245.5 194786.9 197406.9\n",
       "2  21461.7  21694.1  21189.7  21250.8  21744.9 ⋯  32058.7  33737.0  33352.5\n",
       "3  24744.3  26806.6  28494.1  29756.8  32037.9 ⋯  58283.6  57247.7  56484.9\n",
       "4    884.3    829.9    948.1    919.2   1101.9 ⋯    992.0   1325.0   1597.4\n",
       "5 155755.8 165110.7 171909.6 180522.3 193634.9 ⋯ 271440.0 278591.6 287666.6\n",
       "6  23932.4  22983.3  22227.9  22335.1  25649.5 ⋯  24505.2  22226.4  24070.0\n",
       "  y2015    y2016    y2017    y2018    y2019    y2020    y2021   \n",
       "1 202372.4 207368.4 215085.9 224046.9 231171.8 226896.5 247092.5\n",
       "2  33529.3  34464.3  36146.6  38064.9  37528.1  35733.7  40062.4\n",
       "3  51490.9  50727.7  53089.3  54711.7  54547.1  49820.0  54970.1\n",
       "4   1833.6   1570.4   1821.9   1420.2   1488.9   1338.8       NA\n",
       "5 299393.3 313081.4 330416.1 349907.5 369988.2 373719.0 411191.8\n",
       "6  25819.2  26489.1  28652.4  31427.6  33304.5  32067.7  34995.1"
      ]
     },
     "metadata": {},
     "output_type": "display_data"
    }
   ],
   "source": [
    "#Filter for only \"All industry total\" and \"Manufacturing\"\n",
    "\n",
    "states_reduced = states_data %>%\n",
    "    filter(description == \"All industry total\" | description == \"Manufacturing\")\n",
    "\n",
    "head(states_reduced)"
   ]
  },
  {
   "cell_type": "code",
   "execution_count": 94,
   "id": "ab41ffc0-3e8e-4f8f-a715-f7868616f85c",
   "metadata": {},
   "outputs": [
    {
     "data": {
      "text/html": [
       "<table class=\"dataframe\">\n",
       "<caption>A tibble: 6 × 4</caption>\n",
       "<thead>\n",
       "\t<tr><th scope=col>state_name</th><th scope=col>description</th><th scope=col>year</th><th scope=col>current_dollars_millions</th></tr>\n",
       "\t<tr><th scope=col>&lt;chr&gt;</th><th scope=col>&lt;chr&gt;</th><th scope=col>&lt;chr&gt;</th><th scope=col>&lt;dbl&gt;</th></tr>\n",
       "</thead>\n",
       "<tbody>\n",
       "\t<tr><td>Alabama</td><td>All industry total</td><td>y1997</td><td>104811.9</td></tr>\n",
       "\t<tr><td>Alabama</td><td>All industry total</td><td>y1998</td><td>110212.0</td></tr>\n",
       "\t<tr><td>Alabama</td><td>All industry total</td><td>y1999</td><td>115680.1</td></tr>\n",
       "\t<tr><td>Alabama</td><td>All industry total</td><td>y2000</td><td>119851.7</td></tr>\n",
       "\t<tr><td>Alabama</td><td>All industry total</td><td>y2001</td><td>122915.5</td></tr>\n",
       "\t<tr><td>Alabama</td><td>All industry total</td><td>y2002</td><td>127505.0</td></tr>\n",
       "</tbody>\n",
       "</table>\n"
      ],
      "text/latex": [
       "A tibble: 6 × 4\n",
       "\\begin{tabular}{llll}\n",
       " state\\_name & description & year & current\\_dollars\\_millions\\\\\n",
       " <chr> & <chr> & <chr> & <dbl>\\\\\n",
       "\\hline\n",
       "\t Alabama & All industry total & y1997 & 104811.9\\\\\n",
       "\t Alabama & All industry total & y1998 & 110212.0\\\\\n",
       "\t Alabama & All industry total & y1999 & 115680.1\\\\\n",
       "\t Alabama & All industry total & y2000 & 119851.7\\\\\n",
       "\t Alabama & All industry total & y2001 & 122915.5\\\\\n",
       "\t Alabama & All industry total & y2002 & 127505.0\\\\\n",
       "\\end{tabular}\n"
      ],
      "text/markdown": [
       "\n",
       "A tibble: 6 × 4\n",
       "\n",
       "| state_name &lt;chr&gt; | description &lt;chr&gt; | year &lt;chr&gt; | current_dollars_millions &lt;dbl&gt; |\n",
       "|---|---|---|---|\n",
       "| Alabama | All industry total | y1997 | 104811.9 |\n",
       "| Alabama | All industry total | y1998 | 110212.0 |\n",
       "| Alabama | All industry total | y1999 | 115680.1 |\n",
       "| Alabama | All industry total | y2000 | 119851.7 |\n",
       "| Alabama | All industry total | y2001 | 122915.5 |\n",
       "| Alabama | All industry total | y2002 | 127505.0 |\n",
       "\n"
      ],
      "text/plain": [
       "  state_name description        year  current_dollars_millions\n",
       "1 Alabama    All industry total y1997 104811.9                \n",
       "2 Alabama    All industry total y1998 110212.0                \n",
       "3 Alabama    All industry total y1999 115680.1                \n",
       "4 Alabama    All industry total y2000 119851.7                \n",
       "5 Alabama    All industry total y2001 122915.5                \n",
       "6 Alabama    All industry total y2002 127505.0                "
      ]
     },
     "metadata": {},
     "output_type": "display_data"
    }
   ],
   "source": [
    "##Pivot Longer/rename\n",
    "states_pivotted = states_reduced %>%\n",
    "    pivot_longer(cols = \"y1997\":\"y2021\" ,\n",
    "                 names_to = \"year\",\n",
    "                 values_to = \"current_dollars_millions\") %>%\n",
    "    select(-unit)  #unit is redundant\n",
    "\n",
    "head(states_pivotted)"
   ]
  },
  {
   "cell_type": "code",
   "execution_count": 100,
   "id": "b59c85cc-301b-46a9-87bd-0ea42d464c8d",
   "metadata": {},
   "outputs": [
    {
     "name": "stderr",
     "output_type": "stream",
     "text": [
      "`summarise()` has grouped output by 'state_name'. You can override using the `.groups` argument.\n",
      "\n"
     ]
    },
    {
     "data": {
      "text/html": [
       "<table class=\"dataframe\">\n",
       "<caption>A grouped_df: 6 × 3</caption>\n",
       "<thead>\n",
       "\t<tr><th scope=col>state_name</th><th scope=col>year</th><th scope=col>percentage_manufacturing</th></tr>\n",
       "\t<tr><th scope=col>&lt;chr&gt;</th><th scope=col>&lt;chr&gt;</th><th scope=col>&lt;dbl&gt;</th></tr>\n",
       "</thead>\n",
       "<tbody>\n",
       "\t<tr><td>Alabama</td><td>y1997</td><td>0.1870274</td></tr>\n",
       "\t<tr><td>Alabama</td><td>y1998</td><td>0.1866131</td></tr>\n",
       "\t<tr><td>Alabama</td><td>y1999</td><td>0.1855263</td></tr>\n",
       "\t<tr><td>Alabama</td><td>y2000</td><td>0.1810079</td></tr>\n",
       "\t<tr><td>Alabama</td><td>y2001</td><td>0.1723924</td></tr>\n",
       "\t<tr><td>Alabama</td><td>y2002</td><td>0.1666664</td></tr>\n",
       "</tbody>\n",
       "</table>\n"
      ],
      "text/latex": [
       "A grouped\\_df: 6 × 3\n",
       "\\begin{tabular}{lll}\n",
       " state\\_name & year & percentage\\_manufacturing\\\\\n",
       " <chr> & <chr> & <dbl>\\\\\n",
       "\\hline\n",
       "\t Alabama & y1997 & 0.1870274\\\\\n",
       "\t Alabama & y1998 & 0.1866131\\\\\n",
       "\t Alabama & y1999 & 0.1855263\\\\\n",
       "\t Alabama & y2000 & 0.1810079\\\\\n",
       "\t Alabama & y2001 & 0.1723924\\\\\n",
       "\t Alabama & y2002 & 0.1666664\\\\\n",
       "\\end{tabular}\n"
      ],
      "text/markdown": [
       "\n",
       "A grouped_df: 6 × 3\n",
       "\n",
       "| state_name &lt;chr&gt; | year &lt;chr&gt; | percentage_manufacturing &lt;dbl&gt; |\n",
       "|---|---|---|\n",
       "| Alabama | y1997 | 0.1870274 |\n",
       "| Alabama | y1998 | 0.1866131 |\n",
       "| Alabama | y1999 | 0.1855263 |\n",
       "| Alabama | y2000 | 0.1810079 |\n",
       "| Alabama | y2001 | 0.1723924 |\n",
       "| Alabama | y2002 | 0.1666664 |\n",
       "\n"
      ],
      "text/plain": [
       "  state_name year  percentage_manufacturing\n",
       "1 Alabama    y1997 0.1870274               \n",
       "2 Alabama    y1998 0.1866131               \n",
       "3 Alabama    y1999 0.1855263               \n",
       "4 Alabama    y2000 0.1810079               \n",
       "5 Alabama    y2001 0.1723924               \n",
       "6 Alabama    y2002 0.1666664               "
      ]
     },
     "metadata": {},
     "output_type": "display_data"
    },
    {
     "data": {
      "text/html": [
       "<table class=\"dataframe\">\n",
       "<caption>A grouped_df: 6 × 3</caption>\n",
       "<thead>\n",
       "\t<tr><th scope=col>state_name</th><th scope=col>year</th><th scope=col>percentage_manufacturing</th></tr>\n",
       "\t<tr><th scope=col>&lt;chr&gt;</th><th scope=col>&lt;chr&gt;</th><th scope=col>&lt;dbl&gt;</th></tr>\n",
       "</thead>\n",
       "<tbody>\n",
       "\t<tr><td>Wyoming</td><td>y2016</td><td>0.04795284</td></tr>\n",
       "\t<tr><td>Wyoming</td><td>y2017</td><td>0.05903640</td></tr>\n",
       "\t<tr><td>Wyoming</td><td>y2018</td><td>0.07028026</td></tr>\n",
       "\t<tr><td>Wyoming</td><td>y2019</td><td>0.07677623</td></tr>\n",
       "\t<tr><td>Wyoming</td><td>y2020</td><td>0.07009236</td></tr>\n",
       "\t<tr><td>Wyoming</td><td>y2021</td><td>0.06485210</td></tr>\n",
       "</tbody>\n",
       "</table>\n"
      ],
      "text/latex": [
       "A grouped\\_df: 6 × 3\n",
       "\\begin{tabular}{lll}\n",
       " state\\_name & year & percentage\\_manufacturing\\\\\n",
       " <chr> & <chr> & <dbl>\\\\\n",
       "\\hline\n",
       "\t Wyoming & y2016 & 0.04795284\\\\\n",
       "\t Wyoming & y2017 & 0.05903640\\\\\n",
       "\t Wyoming & y2018 & 0.07028026\\\\\n",
       "\t Wyoming & y2019 & 0.07677623\\\\\n",
       "\t Wyoming & y2020 & 0.07009236\\\\\n",
       "\t Wyoming & y2021 & 0.06485210\\\\\n",
       "\\end{tabular}\n"
      ],
      "text/markdown": [
       "\n",
       "A grouped_df: 6 × 3\n",
       "\n",
       "| state_name &lt;chr&gt; | year &lt;chr&gt; | percentage_manufacturing &lt;dbl&gt; |\n",
       "|---|---|---|\n",
       "| Wyoming | y2016 | 0.04795284 |\n",
       "| Wyoming | y2017 | 0.05903640 |\n",
       "| Wyoming | y2018 | 0.07028026 |\n",
       "| Wyoming | y2019 | 0.07677623 |\n",
       "| Wyoming | y2020 | 0.07009236 |\n",
       "| Wyoming | y2021 | 0.06485210 |\n",
       "\n"
      ],
      "text/plain": [
       "  state_name year  percentage_manufacturing\n",
       "1 Wyoming    y2016 0.04795284              \n",
       "2 Wyoming    y2017 0.05903640              \n",
       "3 Wyoming    y2018 0.07028026              \n",
       "4 Wyoming    y2019 0.07677623              \n",
       "5 Wyoming    y2020 0.07009236              \n",
       "6 Wyoming    y2021 0.06485210              "
      ]
     },
     "metadata": {},
     "output_type": "display_data"
    }
   ],
   "source": [
    "#Calculating the fraction\n",
    "\n",
    "states_percentage = states_pivotted %>%\n",
    "    group_by(state_name, year) %>%\n",
    "    summarize(percentage_manufacturing = min(current_dollars_millions)/max(current_dollars_millions))\n",
    "\n",
    "head(states_percentage)\n",
    "tail(states_percentage)"
   ]
  },
  {
   "cell_type": "code",
   "execution_count": 99,
   "id": "f6343354-0182-401a-a310-c2e3d519f8be",
   "metadata": {},
   "outputs": [],
   "source": [
    "#Saving file into output_files folder\n",
    "write_csv(states_percentage, \"output_files/percentage_manufacturing.csv\")"
   ]
  }
 ],
 "metadata": {
  "kernelspec": {
   "display_name": "R",
   "language": "R",
   "name": "ir"
  },
  "language_info": {
   "codemirror_mode": "r",
   "file_extension": ".r",
   "mimetype": "text/x-r-source",
   "name": "R",
   "pygments_lexer": "r",
   "version": "4.1.2"
  }
 },
 "nbformat": 4,
 "nbformat_minor": 5
}
